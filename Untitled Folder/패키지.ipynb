{
 "cells": [
  {
   "cell_type": "code",
   "execution_count": null,
   "id": "8223474b",
   "metadata": {},
   "outputs": [],
   "source": [
    "# 패키지\n",
    "!jupyter nbconvert --to script prime.ipynb"
   ]
  },
  {
   "cell_type": "code",
   "execution_count": null,
   "id": "45f8b489",
   "metadata": {},
   "outputs": [],
   "source": [
    "!jupyter nbconvert --to script __init__.ipynb"
   ]
  },
  {
   "cell_type": "code",
   "execution_count": 1,
   "id": "8bb50e2d",
   "metadata": {
    "scrolled": true
   },
   "outputs": [
    {
     "name": "stdout",
     "output_type": "stream",
     "text": [
      "3\n",
      "12\n"
     ]
    }
   ],
   "source": [
    "import testpack.gcdlcm\n",
    "import testpack.prime\n",
    "\n",
    "a = testpack.gcdlcm.GcdLcm(12,6)\n",
    "print(a.gcd())\n",
    "print(a.lcm())"
   ]
  },
  {
   "cell_type": "code",
   "execution_count": 2,
   "id": "17e1c866",
   "metadata": {
    "collapsed": true
   },
   "outputs": [
    {
     "name": "stdout",
     "output_type": "stream",
     "text": [
      "2\n",
      "3\n",
      "5\n",
      "7\n",
      "11\n",
      "13\n",
      "17\n",
      "19\n",
      "23\n",
      "29\n",
      "31\n",
      "37\n",
      "41\n",
      "43\n",
      "47\n",
      "53\n",
      "59\n",
      "61\n",
      "67\n",
      "71\n",
      "73\n",
      "79\n",
      "83\n",
      "89\n",
      "97\n"
     ]
    }
   ],
   "source": [
    "testpack.prime.prime_print(100)"
   ]
  }
 ],
 "metadata": {
  "kernelspec": {
   "display_name": "Python 3",
   "language": "python",
   "name": "python3"
  },
  "language_info": {
   "codemirror_mode": {
    "name": "ipython",
    "version": 3
   },
   "file_extension": ".py",
   "mimetype": "text/x-python",
   "name": "python",
   "nbconvert_exporter": "python",
   "pygments_lexer": "ipython3",
   "version": "3.8.8"
  }
 },
 "nbformat": 4,
 "nbformat_minor": 5
}
