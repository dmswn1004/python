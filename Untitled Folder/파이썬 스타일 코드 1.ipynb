{
 "cells": [
  {
   "cell_type": "code",
   "execution_count": null,
   "id": "99b3326a",
   "metadata": {},
   "outputs": [],
   "source": [
    "# 파이썬 스타일 코드"
   ]
  },
  {
   "cell_type": "code",
   "execution_count": 9,
   "id": "38ccd3eb",
   "metadata": {},
   "outputs": [
    {
     "name": "stdout",
     "output_type": "stream",
     "text": [
      "[9]\n"
     ]
    }
   ],
   "source": [
    "# 반복문 활용\n",
    "a = [1,2,3]\n",
    "square = []\n",
    "for i in a:\n",
    "    if i%3==0:\n",
    "        square.append(i**2)\n",
    "print(square)"
   ]
  },
  {
   "cell_type": "code",
   "execution_count": 3,
   "id": "3dea3bff",
   "metadata": {
    "scrolled": true
   },
   "outputs": [
    {
     "name": "stdout",
     "output_type": "stream",
     "text": [
      "[1, 4, 9]\n"
     ]
    }
   ],
   "source": [
    "# 리스트 컴프리헨션\n",
    "square = [i**2 for i in [1,2,3]]\n",
    "print(square)"
   ]
  },
  {
   "cell_type": "code",
   "execution_count": 4,
   "id": "17f9e1da",
   "metadata": {
    "scrolled": true
   },
   "outputs": [
    {
     "name": "stdout",
     "output_type": "stream",
     "text": [
      "[9]\n"
     ]
    }
   ],
   "source": [
    "square = [i**2 for i in [1,2,3] if i%3==0]\n",
    "print(square)"
   ]
  },
  {
   "cell_type": "code",
   "execution_count": 13,
   "id": "a404a041",
   "metadata": {
    "scrolled": true
   },
   "outputs": [
    {
     "name": "stdout",
     "output_type": "stream",
     "text": [
      "0번째 값 : 1\n",
      "1번째 값 : 2\n",
      "2번째 값 : 3\n"
     ]
    }
   ],
   "source": [
    "# enumerate\n",
    "for i,num in enumerate([1,2,3]):\n",
    "    print('%d번째 값 : %d'%(i,num))"
   ]
  },
  {
   "cell_type": "code",
   "execution_count": 15,
   "id": "df450b1e",
   "metadata": {
    "scrolled": false
   },
   "outputs": [
    {
     "name": "stdout",
     "output_type": "stream",
     "text": [
      "0번째 값 : 1\n",
      "1번째 값 : 2\n",
      "2번째 값 : 3\n"
     ]
    }
   ],
   "source": [
    "# 반복문 활용\n",
    "count = 0\n",
    "for i in [1,2,3]:\n",
    "    print('%d번째 값 : %d'%(count,i))\n",
    "    count += 1"
   ]
  },
  {
   "cell_type": "code",
   "execution_count": 22,
   "id": "4b36aee2",
   "metadata": {
    "collapsed": true
   },
   "outputs": [
    {
     "name": "stdout",
     "output_type": "stream",
     "text": [
      "1번 : 50\n",
      "2번 : 51\n",
      "3번 : 52\n",
      "4번 : 53\n",
      "5번 : 54\n",
      "6번 : 55\n",
      "7번 : 56\n",
      "8번 : 57\n",
      "9번 : 58\n",
      "10번 : 59\n",
      "11번 : 60\n",
      "12번 : 61\n",
      "13번 : 62\n",
      "14번 : 63\n",
      "15번 : 64\n",
      "16번 : 65\n",
      "17번 : 66\n",
      "18번 : 67\n",
      "19번 : 68\n",
      "20번 : 69\n",
      "21번 : 70\n",
      "22번 : 71\n",
      "23번 : 72\n",
      "24번 : 73\n",
      "25번 : 74\n",
      "26번 : 75\n",
      "27번 : 76\n",
      "28번 : 77\n",
      "29번 : 78\n",
      "30번 : 79\n",
      "31번 : 80\n",
      "32번 : 81\n",
      "33번 : 82\n",
      "34번 : 83\n",
      "35번 : 84\n",
      "36번 : 85\n",
      "37번 : 86\n",
      "38번 : 87\n",
      "39번 : 88\n",
      "40번 : 89\n",
      "41번 : 90\n",
      "42번 : 91\n",
      "43번 : 92\n",
      "44번 : 93\n",
      "45번 : 94\n",
      "46번 : 95\n",
      "47번 : 96\n",
      "48번 : 97\n",
      "49번 : 98\n",
      "50번 : 99\n",
      "51번 : 100\n"
     ]
    }
   ],
   "source": [
    "# 예제1 : 50~100 까지 숫자 오름차순으로 순서 1부터 표시해 출력 (순서,숫자)\n",
    "count = 1\n",
    "for i in range(50,101):\n",
    "    print('%d번 : %d'%(count,i))\n",
    "    count += 1"
   ]
  },
  {
   "cell_type": "code",
   "execution_count": 24,
   "id": "f426b3c2",
   "metadata": {
    "collapsed": true
   },
   "outputs": [
    {
     "name": "stdout",
     "output_type": "stream",
     "text": [
      "1번 : 50\n",
      "2번 : 51\n",
      "3번 : 52\n",
      "4번 : 53\n",
      "5번 : 54\n",
      "6번 : 55\n",
      "7번 : 56\n",
      "8번 : 57\n",
      "9번 : 58\n",
      "10번 : 59\n",
      "11번 : 60\n",
      "12번 : 61\n",
      "13번 : 62\n",
      "14번 : 63\n",
      "15번 : 64\n",
      "16번 : 65\n",
      "17번 : 66\n",
      "18번 : 67\n",
      "19번 : 68\n",
      "20번 : 69\n",
      "21번 : 70\n",
      "22번 : 71\n",
      "23번 : 72\n",
      "24번 : 73\n",
      "25번 : 74\n",
      "26번 : 75\n",
      "27번 : 76\n",
      "28번 : 77\n",
      "29번 : 78\n",
      "30번 : 79\n",
      "31번 : 80\n",
      "32번 : 81\n",
      "33번 : 82\n",
      "34번 : 83\n",
      "35번 : 84\n",
      "36번 : 85\n",
      "37번 : 86\n",
      "38번 : 87\n",
      "39번 : 88\n",
      "40번 : 89\n",
      "41번 : 90\n",
      "42번 : 91\n",
      "43번 : 92\n",
      "44번 : 93\n",
      "45번 : 94\n",
      "46번 : 95\n",
      "47번 : 96\n",
      "48번 : 97\n",
      "49번 : 98\n",
      "50번 : 99\n",
      "51번 : 100\n"
     ]
    }
   ],
   "source": [
    "for i,num in enumerate(range(50,101)):\n",
    "    print('%d번 : %d'%(i,num))"
   ]
  },
  {
   "cell_type": "code",
   "execution_count": 30,
   "id": "a2c24200",
   "metadata": {},
   "outputs": [
    {
     "name": "stdout",
     "output_type": "stream",
     "text": [
      "0: Python\n",
      "1: R\n",
      "2: Java\n"
     ]
    }
   ],
   "source": [
    "# 예제2\n",
    "language = ['Python','R','Java']\n",
    "for i in range(len(language)):\n",
    "    print('%d: %s'%(i,language[i]))"
   ]
  },
  {
   "cell_type": "code",
   "execution_count": 32,
   "id": "4918df08",
   "metadata": {
    "scrolled": true
   },
   "outputs": [
    {
     "name": "stdout",
     "output_type": "stream",
     "text": [
      "0 : Python\n",
      "1 : R\n",
      "2 : Java\n"
     ]
    }
   ],
   "source": [
    "language = ['Python','R','Java']\n",
    "for i,lan in enumerate(language):\n",
    "    print('%d : %s'%(i,lan))"
   ]
  }
 ],
 "metadata": {
  "kernelspec": {
   "display_name": "Python 3",
   "language": "python",
   "name": "python3"
  },
  "language_info": {
   "codemirror_mode": {
    "name": "ipython",
    "version": 3
   },
   "file_extension": ".py",
   "mimetype": "text/x-python",
   "name": "python",
   "nbconvert_exporter": "python",
   "pygments_lexer": "ipython3",
   "version": "3.8.8"
  }
 },
 "nbformat": 4,
 "nbformat_minor": 5
}
