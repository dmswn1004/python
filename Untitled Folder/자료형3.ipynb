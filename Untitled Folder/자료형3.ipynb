{
 "cells": [
  {
   "cell_type": "code",
   "execution_count": 4,
   "id": "b9a5d1a3",
   "metadata": {},
   "outputs": [
    {
     "name": "stdout",
     "output_type": "stream",
     "text": [
      "hello world\n",
      "<class 'int'>\n",
      "<class 'bool'>\n",
      "3\n",
      "<class 'list'>\n"
     ]
    }
   ],
   "source": [
    " #print:출력\n",
    "print('hello world')\n",
    "\n",
    "# type: 자료형 종류\n",
    "a = 1\n",
    "b = True\n",
    "print(type(a))\n",
    "print(type(b))\n",
    "\n",
    "# len: 변수 길이\n",
    "c = [1, 2, 3]\n",
    "print(len(c))\n",
    "print(type(c))"
   ]
  },
  {
   "cell_type": "code",
   "execution_count": 30,
   "id": "0e51d5c9",
   "metadata": {},
   "outputs": [
    {
     "name": "stdout",
     "output_type": "stream",
     "text": [
      "<class 'int'>\n",
      "1.1\n",
      "<class 'float'>\n",
      "1.0\n",
      "(1+2j)\n",
      "<class 'complex'>\n",
      "True\n",
      "<class 'bool'>\n",
      "False\n",
      "<class 'bool'>\n"
     ]
    }
   ],
   "source": [
    "# 단일 자료형\n",
    "# 정수형\n",
    "a=1\n",
    "print(type(a))\n",
    "\n",
    "# 실수형\n",
    "b=1.1\n",
    "print(b)\n",
    "print(type(b))\n",
    "a=1.\n",
    "print(a)\n",
    "print(type(a))\n",
    "\n",
    "# 복소수형\n",
    "a=1+2j\n",
    "print(a)\n",
    "print(type(a))\n",
    "\n",
    "# 논리형\n",
    "a=True\n",
    "print(a)\n",
    "print(type(a))\n",
    "\n",
    "b=False\n",
    "print(b)\n",
    "print(type(b))"
   ]
  },
  {
   "cell_type": "code",
   "execution_count": 5,
   "id": "6cb427f3",
   "metadata": {},
   "outputs": [
    {
     "name": "stdout",
     "output_type": "stream",
     "text": [
      "0\n",
      "<class 'int'>\n"
     ]
    }
   ],
   "source": [
    "c=int()\n",
    "print(c)\n",
    "print(type(c))"
   ]
  }
 ],
 "metadata": {
  "kernelspec": {
   "display_name": "Python 3",
   "language": "python",
   "name": "python3"
  },
  "language_info": {
   "codemirror_mode": {
    "name": "ipython",
    "version": 3
   },
   "file_extension": ".py",
   "mimetype": "text/x-python",
   "name": "python",
   "nbconvert_exporter": "python",
   "pygments_lexer": "ipython3",
   "version": "3.8.8"
  }
 },
 "nbformat": 4,
 "nbformat_minor": 5
}
