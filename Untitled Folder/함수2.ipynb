{
 "cells": [
  {
   "cell_type": "code",
   "execution_count": 6,
   "id": "7dc40e61",
   "metadata": {},
   "outputs": [],
   "source": [
    "# 매개변수 : X 리턴 : X\n",
    "def ni_nr():\n",
    "    print('매개변수와 리턴이 없는 함수')\n",
    "    pass\n",
    "\n",
    "a = ni_nr()\n",
    "print(a)\n",
    "print(type(ni_nr()))"
   ]
  },
  {
   "cell_type": "code",
   "execution_count": 21,
   "id": "5c42b9d7",
   "metadata": {},
   "outputs": [
    {
     "name": "stdout",
     "output_type": "stream",
     "text": [
      "3.14\n",
      "<class 'float'>\n"
     ]
    }
   ],
   "source": [
    "# 매개변수 : X 리턴 : 3.14\n",
    "def ni_r():\n",
    "    return 3.14\n",
    "\n",
    "print(ni_r())\n",
    "print(type(ni_r()))"
   ]
  },
  {
   "cell_type": "code",
   "execution_count": 14,
   "id": "2569d209",
   "metadata": {},
   "outputs": [
    {
     "name": "stdout",
     "output_type": "stream",
     "text": [
      "6\n",
      "15\n"
     ]
    }
   ],
   "source": [
    "# 매개변수 초기값이 있는 변수\n",
    "def triple(a=5):\n",
    "    result = a * 3\n",
    "    return result\n",
    "\n",
    "print(triple(2))\n",
    "print(triple())"
   ]
  },
  {
   "cell_type": "code",
   "execution_count": 25,
   "id": "5717f2c9",
   "metadata": {},
   "outputs": [
    {
     "name": "stdout",
     "output_type": "stream",
     "text": [
      "(5, -1, 6, 0.6666666666666666)\n",
      "<class 'tuple'>\n",
      "3 -1 2 0.5\n",
      "(3, -1, 2, 0.5)\n"
     ]
    }
   ],
   "source": [
    "# 다수 연산 값 리턴\n",
    "def test(a,b):\n",
    "    return a+b, a-b, a*b, a/b\n",
    "\n",
    "print(test(2,3))\n",
    "print(type(test(2,3)))\n",
    "\n",
    "num1, num2, num3, num4 = test(1,2)\n",
    "print(num1, num2, num3, num4)\n",
    "results = test(1,2)\n",
    "print(results)"
   ]
  },
  {
   "cell_type": "code",
   "execution_count": 1,
   "id": "c6a065b1",
   "metadata": {},
   "outputs": [
    {
     "name": "stdout",
     "output_type": "stream",
     "text": [
      "15\n",
      "<class 'int'>\n"
     ]
    }
   ],
   "source": [
    "# 가변 매개변수\n",
    "def test(*args):\n",
    "    sum = 0\n",
    "    for i in range(len(args)):\n",
    "        sum += args[i]  \n",
    "    return sum\n",
    "\n",
    "def test(*args):\n",
    "    sum = 0\n",
    "    for i in args:\n",
    "        sum += i    \n",
    "    return sum\n",
    "\n",
    "print(test(1,2,3,4,5))\n",
    "print(type(test()))"
   ]
  },
  {
   "cell_type": "code",
   "execution_count": 15,
   "id": "265c2781",
   "metadata": {
    "scrolled": true
   },
   "outputs": [
    {
     "name": "stdout",
     "output_type": "stream",
     "text": [
      "5\n",
      "15\n"
     ]
    }
   ],
   "source": [
    "# 지역변수\n",
    "a = 5\n",
    "def triple(a):\n",
    "    a = a * 3\n",
    "    return a\n",
    "\n",
    "triple(a)\n",
    "print(a)\n",
    "a = triple(a)\n",
    "print(a)"
   ]
  },
  {
   "cell_type": "code",
   "execution_count": 40,
   "id": "3b61a83f",
   "metadata": {},
   "outputs": [
    {
     "name": "stdout",
     "output_type": "stream",
     "text": [
      "7\n",
      "21\n"
     ]
    }
   ],
   "source": [
    "# 전역변수\n",
    "# a = int(input())\n",
    "a = 5\n",
    "def triple():\n",
    "    global a\n",
    "    a = a * 3\n",
    "    return a\n",
    "\n",
    "print(triple())"
   ]
  },
  {
   "cell_type": "code",
   "execution_count": 37,
   "id": "ad04bbe5",
   "metadata": {
    "scrolled": true
   },
   "outputs": [
    {
     "name": "stdout",
     "output_type": "stream",
     "text": [
      "15\n",
      "<class 'int'>\n"
     ]
    }
   ],
   "source": [
    "# lambda 함수\n",
    "f = lambda a : a*3\n",
    "print(f(5))\n",
    "print(type(f(5)))"
   ]
  }
 ],
 "metadata": {
  "kernelspec": {
   "display_name": "Python 3",
   "language": "python",
   "name": "python3"
  },
  "language_info": {
   "codemirror_mode": {
    "name": "ipython",
    "version": 3
   },
   "file_extension": ".py",
   "mimetype": "text/x-python",
   "name": "python",
   "nbconvert_exporter": "python",
   "pygments_lexer": "ipython3",
   "version": "3.8.8"
  }
 },
 "nbformat": 4,
 "nbformat_minor": 5
}
