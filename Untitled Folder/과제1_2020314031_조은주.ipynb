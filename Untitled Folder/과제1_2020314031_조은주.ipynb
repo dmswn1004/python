{
 "cells": [
  {
   "cell_type": "code",
   "execution_count": 1,
   "id": "73c639d3",
   "metadata": {},
   "outputs": [
    {
     "name": "stdout",
     "output_type": "stream",
     "text": [
      "2\n",
      "3\n"
     ]
    }
   ],
   "source": [
    "# 과제 1-1\n",
    "a = 3\n",
    "b = 2\n",
    "\n",
    "c = a\n",
    "a = b\n",
    "b = c\n",
    "\n",
    "print(a)\n",
    "print(b)"
   ]
  },
  {
   "cell_type": "code",
   "execution_count": 3,
   "id": "813d3445",
   "metadata": {},
   "outputs": [
    {
     "name": "stdout",
     "output_type": "stream",
     "text": [
      "mile : 3 mile\n",
      "km : 4.827 km\n"
     ]
    }
   ],
   "source": [
    "# 과제 1-2\n",
    "mile = 3\n",
    "km = mile*1.609\n",
    "print('mile : %d mile\\nkm : %.3f km'%(mile,km))"
   ]
  },
  {
   "cell_type": "code",
   "execution_count": 7,
   "id": "eaf4051b",
   "metadata": {},
   "outputs": [
    {
     "name": "stdout",
     "output_type": "stream",
     "text": [
      "원 넓이 : 78.50\n"
     ]
    }
   ],
   "source": [
    "# 과제 1-3\n",
    "r = 5\n",
    "# pi = 3.14\n",
    "s = r**2*3.14 \n",
    "print('원 넓이 : %.2f'%s)"
   ]
  },
  {
   "cell_type": "code",
   "execution_count": 9,
   "id": "271a80d0",
   "metadata": {},
   "outputs": [
    {
     "name": "stdout",
     "output_type": "stream",
     "text": [
      "[3, 3.14, 28.26]\n",
      "<class 'list'>\n",
      "28.26\n",
      "3.14\n",
      "3\n"
     ]
    }
   ],
   "source": [
    "# 과제 1-4\n",
    "circle = []\n",
    "r = 3\n",
    "circle.append(r)\n",
    "pi = 3.14\n",
    "circle.append(pi)\n",
    "s = r**2*pi\n",
    "# s = r * r * pi\n",
    "\n",
    "circle.append(s)\n",
    "print(circle)\n",
    "print(type(circle))\n",
    "\n",
    "print(circle.pop())\n",
    "print(circle.pop())\n",
    "print(circle.pop())"
   ]
  },
  {
   "cell_type": "code",
   "execution_count": 10,
   "id": "e3cdd524",
   "metadata": {
    "scrolled": true
   },
   "outputs": [
    {
     "name": "stdout",
     "output_type": "stream",
     "text": [
      "True\n",
      "True\n",
      "False\n",
      "True\n"
     ]
    }
   ],
   "source": [
    "# 과제 1-5\n",
    "a = True\n",
    "b = False\n",
    "print(not(b and b))\n",
    "print(not(a and b))\n",
    "print(not(a and a))\n",
    "\n",
    "NAND = not(a and b)\n",
    "print(NAND)"
   ]
  },
  {
   "cell_type": "code",
   "execution_count": 15,
   "id": "8fef2534",
   "metadata": {},
   "outputs": [
    {
     "name": "stdout",
     "output_type": "stream",
     "text": [
      "2\n",
      "2\n",
      "<class 'str'>\n",
      "<class 'int'>\n"
     ]
    }
   ],
   "source": [
    "# input 함수(string 형태로 저장됨)\n",
    "a = input()\n",
    "print(a)\n",
    "print(type(a))\n",
    "a = int(a)\n",
    "print(type(a))"
   ]
  },
  {
   "cell_type": "code",
   "execution_count": 18,
   "id": "7cc610b3",
   "metadata": {},
   "outputs": [
    {
     "name": "stdout",
     "output_type": "stream",
     "text": [
      "정수를 입력하세요 : 2\n",
      "정수를  입력하세요 : 3\n",
      "3\n",
      "2\n"
     ]
    }
   ],
   "source": [
    "# 응용 1-1\n",
    "a = input(\"정수를 입력하세요 : \")\n",
    "b = input(\"정수를  입력하세요 : \")\n",
    "a = int(a)\n",
    "b = int(b)\n",
    "\n",
    "c = a\n",
    "a = b\n",
    "b = c\n",
    "\n",
    "print(a)\n",
    "print(b)"
   ]
  },
  {
   "cell_type": "code",
   "execution_count": 19,
   "id": "17cda5d5",
   "metadata": {},
   "outputs": [
    {
     "name": "stdout",
     "output_type": "stream",
     "text": [
      "mile을 입력하세요 : 2\n",
      "mile : 2 mile\n",
      "km : 3.218 km\n"
     ]
    }
   ],
   "source": [
    "# 응용 1-2\n",
    "mile = input(\"mile을 입력하세요 : \")\n",
    "mile = float(mile)\n",
    "km = 1.609 * mile\n",
    "print('mile : %d mile\\nkm : %.3f km'%(mile,km))"
   ]
  },
  {
   "cell_type": "code",
   "execution_count": 23,
   "id": "9902b390",
   "metadata": {},
   "outputs": [
    {
     "name": "stdout",
     "output_type": "stream",
     "text": [
      "반지름을 입력하세요 : 3\n",
      "원 넓이 : 28.26\n"
     ]
    }
   ],
   "source": [
    "# 응용 1-3\n",
    "r = input(\"반지름을 입력하세요 : \")\n",
    "r = float(r)\n",
    "pi = 3.14\n",
    "s = r**2*pi\n",
    "print('원 넓이 : %.2f'%s)"
   ]
  },
  {
   "cell_type": "code",
   "execution_count": 1,
   "id": "2ebd9343",
   "metadata": {},
   "outputs": [
    {
     "name": "stdout",
     "output_type": "stream",
     "text": [
      "반지름을 입력하세요 : 5\n",
      "[5.0, 3.14, 78.5]\n",
      "<class 'list'>\n",
      "78.5\n",
      "3.14\n",
      "5.0\n"
     ]
    }
   ],
   "source": [
    "# 응용 1-4\n",
    "circle = []\n",
    "r = float(input(\"반지름을 입력하세요 : \"))\n",
    "circle.append(r)\n",
    "pi = 3.14\n",
    "circle.append(pi)\n",
    "# s = r**2*pi\n",
    "s = r * r * pi\n",
    "circle.append(s)\n",
    "print(circle)\n",
    "print(type(circle))\n",
    "\n",
    "print(circle.pop())\n",
    "print(circle.pop())\n",
    "print(circle.pop())"
   ]
  },
  {
   "cell_type": "code",
   "execution_count": 26,
   "id": "f12581bd",
   "metadata": {},
   "outputs": [
    {
     "name": "stdout",
     "output_type": "stream",
     "text": [
      "논리형 a를 숫자로 입력하세요 1/0: 1\n",
      "논리형 b 를 입력하세요 : 1/0 : 0\n",
      "True\n"
     ]
    }
   ],
   "source": [
    "# 응용 1-5\n",
    "a = input(\"논리형 a를 숫자로 입력하세요 1/0: \")\n",
    "b = input(\"논리형 b 를 입력하세요 : 1/0 : \")\n",
    "a = int(a)\n",
    "a = bool(a)\n",
    "b = int(b)\n",
    "b = bool(b)\n",
    "# print(not(b and b))\n",
    "# print(not(a and b))\n",
    "# print(not(a and a))\n",
    "\n",
    "NAND = not(a and b)\n",
    "print(NAND)"
   ]
  }
 ],
 "metadata": {
  "kernelspec": {
   "display_name": "Python 3",
   "language": "python",
   "name": "python3"
  },
  "language_info": {
   "codemirror_mode": {
    "name": "ipython",
    "version": 3
   },
   "file_extension": ".py",
   "mimetype": "text/x-python",
   "name": "python",
   "nbconvert_exporter": "python",
   "pygments_lexer": "ipython3",
   "version": "3.8.8"
  }
 },
 "nbformat": 4,
 "nbformat_minor": 5
}
