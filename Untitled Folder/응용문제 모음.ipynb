{
 "cells": [
  {
   "cell_type": "code",
   "execution_count": null,
   "id": "12bd2a29",
   "metadata": {},
   "outputs": [],
   "source": [
    "# 조건문 반복문 응용1"
   ]
  },
  {
   "cell_type": "code",
   "execution_count": 4,
   "id": "36a93220",
   "metadata": {
    "collapsed": true
   },
   "outputs": [
    {
     "name": "stdout",
     "output_type": "stream",
     "text": [
      "1\n",
      "3\n",
      "5\n",
      "7\n",
      "9\n",
      "11\n",
      "13\n",
      "15\n",
      "17\n",
      "19\n",
      "21\n",
      "23\n",
      "25\n",
      "27\n",
      "29\n",
      "31\n",
      "33\n",
      "35\n",
      "37\n",
      "39\n",
      "41\n",
      "43\n",
      "45\n",
      "47\n",
      "49\n",
      "51\n",
      "53\n",
      "55\n",
      "57\n",
      "59\n",
      "61\n",
      "63\n",
      "65\n",
      "67\n",
      "69\n",
      "71\n",
      "73\n",
      "75\n",
      "77\n",
      "79\n",
      "81\n",
      "83\n",
      "85\n",
      "87\n",
      "89\n",
      "91\n",
      "93\n",
      "95\n",
      "97\n",
      "99\n",
      "1\n",
      "3\n",
      "5\n",
      "7\n",
      "9\n",
      "11\n",
      "13\n",
      "15\n",
      "17\n",
      "19\n",
      "21\n",
      "23\n",
      "25\n",
      "27\n",
      "29\n",
      "31\n",
      "33\n",
      "35\n",
      "37\n",
      "39\n",
      "41\n",
      "43\n",
      "45\n",
      "47\n",
      "49\n",
      "51\n",
      "53\n",
      "55\n",
      "57\n",
      "59\n",
      "61\n",
      "63\n",
      "65\n",
      "67\n",
      "69\n",
      "71\n",
      "73\n",
      "75\n",
      "77\n",
      "79\n",
      "81\n",
      "83\n",
      "85\n",
      "87\n",
      "89\n",
      "91\n",
      "93\n",
      "95\n",
      "97\n",
      "99\n"
     ]
    }
   ],
   "source": [
    "# 기본 1 1~100 중 홀수 출력\n",
    "for i in range(1,101,2):\n",
    "    print(i)\n",
    "for i in range(1,101):\n",
    "    if i%2==1:\n",
    "        print(i)"
   ]
  },
  {
   "cell_type": "code",
   "execution_count": 5,
   "id": "a35540fc",
   "metadata": {
    "collapsed": true
   },
   "outputs": [
    {
     "name": "stdout",
     "output_type": "stream",
     "text": [
      "1 * 1 = 1\n",
      "1 * 2 = 2\n",
      "1 * 3 = 3\n",
      "1 * 4 = 4\n",
      "1 * 5 = 5\n",
      "1 * 6 = 6\n",
      "1 * 7 = 7\n",
      "1 * 8 = 8\n",
      "1 * 9 = 9\n",
      "\n",
      "2 * 1 = 1\n",
      "2 * 2 = 2\n",
      "2 * 3 = 3\n",
      "2 * 4 = 4\n",
      "2 * 5 = 5\n",
      "2 * 6 = 6\n",
      "2 * 7 = 7\n",
      "2 * 8 = 8\n",
      "2 * 9 = 9\n",
      "\n",
      "3 * 1 = 1\n",
      "3 * 2 = 2\n",
      "3 * 3 = 3\n",
      "3 * 4 = 4\n",
      "3 * 5 = 5\n",
      "3 * 6 = 6\n",
      "3 * 7 = 7\n",
      "3 * 8 = 8\n",
      "3 * 9 = 9\n",
      "\n",
      "4 * 1 = 1\n",
      "4 * 2 = 2\n",
      "4 * 3 = 3\n",
      "4 * 4 = 4\n",
      "4 * 5 = 5\n",
      "4 * 6 = 6\n",
      "4 * 7 = 7\n",
      "4 * 8 = 8\n",
      "4 * 9 = 9\n",
      "\n",
      "5 * 1 = 1\n",
      "5 * 2 = 2\n",
      "5 * 3 = 3\n",
      "5 * 4 = 4\n",
      "5 * 5 = 5\n",
      "5 * 6 = 6\n",
      "5 * 7 = 7\n",
      "5 * 8 = 8\n",
      "5 * 9 = 9\n",
      "\n",
      "6 * 1 = 1\n",
      "6 * 2 = 2\n",
      "6 * 3 = 3\n",
      "6 * 4 = 4\n",
      "6 * 5 = 5\n",
      "6 * 6 = 6\n",
      "6 * 7 = 7\n",
      "6 * 8 = 8\n",
      "6 * 9 = 9\n",
      "\n",
      "7 * 1 = 1\n",
      "7 * 2 = 2\n",
      "7 * 3 = 3\n",
      "7 * 4 = 4\n",
      "7 * 5 = 5\n",
      "7 * 6 = 6\n",
      "7 * 7 = 7\n",
      "7 * 8 = 8\n",
      "7 * 9 = 9\n",
      "\n",
      "8 * 1 = 1\n",
      "8 * 2 = 2\n",
      "8 * 3 = 3\n",
      "8 * 4 = 4\n",
      "8 * 5 = 5\n",
      "8 * 6 = 6\n",
      "8 * 7 = 7\n",
      "8 * 8 = 8\n",
      "8 * 9 = 9\n",
      "\n",
      "9 * 1 = 1\n",
      "9 * 2 = 2\n",
      "9 * 3 = 3\n",
      "9 * 4 = 4\n",
      "9 * 5 = 5\n",
      "9 * 6 = 6\n",
      "9 * 7 = 7\n",
      "9 * 8 = 8\n",
      "9 * 9 = 9\n",
      "\n"
     ]
    }
   ],
   "source": [
    "# 기본 2 구구단 \n",
    "for i in range(1,10):\n",
    "    for j in range(1,10):\n",
    "        print('%d * %d = %d'%(i,j,1*j))\n",
    "    print('')"
   ]
  },
  {
   "cell_type": "code",
   "execution_count": 9,
   "id": "a66caf91",
   "metadata": {
    "collapsed": true
   },
   "outputs": [
    {
     "name": "stdout",
     "output_type": "stream",
     "text": [
      "9 * 1 = 1\n",
      "9 * 2 = 2\n",
      "9 * 3 = 3\n",
      "9 * 4 = 4\n",
      "9 * 5 = 5\n",
      "9 * 6 = 6\n",
      "9 * 7 = 7\n",
      "9 * 8 = 8\n",
      "9 * 9 = 9\n",
      "\n",
      "8 * 1 = 1\n",
      "8 * 2 = 2\n",
      "8 * 3 = 3\n",
      "8 * 4 = 4\n",
      "8 * 5 = 5\n",
      "8 * 6 = 6\n",
      "8 * 7 = 7\n",
      "8 * 8 = 8\n",
      "8 * 9 = 9\n",
      "\n",
      "7 * 1 = 1\n",
      "7 * 2 = 2\n",
      "7 * 3 = 3\n",
      "7 * 4 = 4\n",
      "7 * 5 = 5\n",
      "7 * 6 = 6\n",
      "7 * 7 = 7\n",
      "7 * 8 = 8\n",
      "7 * 9 = 9\n",
      "\n",
      "6 * 1 = 1\n",
      "6 * 2 = 2\n",
      "6 * 3 = 3\n",
      "6 * 4 = 4\n",
      "6 * 5 = 5\n",
      "6 * 6 = 6\n",
      "6 * 7 = 7\n",
      "6 * 8 = 8\n",
      "6 * 9 = 9\n",
      "\n",
      "5 * 1 = 1\n",
      "5 * 2 = 2\n",
      "5 * 3 = 3\n",
      "5 * 4 = 4\n",
      "5 * 5 = 5\n",
      "5 * 6 = 6\n",
      "5 * 7 = 7\n",
      "5 * 8 = 8\n",
      "5 * 9 = 9\n",
      "\n",
      "4 * 1 = 1\n",
      "4 * 2 = 2\n",
      "4 * 3 = 3\n",
      "4 * 4 = 4\n",
      "4 * 5 = 5\n",
      "4 * 6 = 6\n",
      "4 * 7 = 7\n",
      "4 * 8 = 8\n",
      "4 * 9 = 9\n",
      "\n",
      "3 * 1 = 1\n",
      "3 * 2 = 2\n",
      "3 * 3 = 3\n",
      "3 * 4 = 4\n",
      "3 * 5 = 5\n",
      "3 * 6 = 6\n",
      "3 * 7 = 7\n",
      "3 * 8 = 8\n",
      "3 * 9 = 9\n",
      "\n",
      "2 * 1 = 1\n",
      "2 * 2 = 2\n",
      "2 * 3 = 3\n",
      "2 * 4 = 4\n",
      "2 * 5 = 5\n",
      "2 * 6 = 6\n",
      "2 * 7 = 7\n",
      "2 * 8 = 8\n",
      "2 * 9 = 9\n",
      "\n",
      "1 * 1 = 1\n",
      "1 * 2 = 2\n",
      "1 * 3 = 3\n",
      "1 * 4 = 4\n",
      "1 * 5 = 5\n",
      "1 * 6 = 6\n",
      "1 * 7 = 7\n",
      "1 * 8 = 8\n",
      "1 * 9 = 9\n",
      "\n"
     ]
    }
   ],
   "source": [
    "# 기본 3 9~1단순으로 구구단\n",
    "for i in range(9,0,-1):\n",
    "    for j in range(1,10):\n",
    "        print('%d * %d = %d'%(i,j,1*j))\n",
    "    print('')"
   ]
  },
  {
   "cell_type": "code",
   "execution_count": 15,
   "id": "b8e2d9fd",
   "metadata": {
    "collapsed": true
   },
   "outputs": [
    {
     "name": "stdout",
     "output_type": "stream",
     "text": [
      "1 * 1 = 1\n",
      "1 * 2 = 2\n",
      "1 * 3 = 3\n",
      "1 * 4 = 4\n",
      "1 * 5 = 5\n",
      "1 * 6 = 6\n",
      "1 * 7 = 7\n",
      "1 * 8 = 8\n",
      "1 * 9 = 9\n",
      "\n",
      "3 * 1 = 1\n",
      "3 * 2 = 2\n",
      "3 * 3 = 3\n",
      "3 * 4 = 4\n",
      "3 * 5 = 5\n",
      "3 * 6 = 6\n",
      "3 * 7 = 7\n",
      "3 * 8 = 8\n",
      "3 * 9 = 9\n",
      "\n",
      "4 * 1 = 1\n",
      "4 * 2 = 2\n",
      "4 * 3 = 3\n",
      "4 * 4 = 4\n",
      "4 * 5 = 5\n",
      "4 * 6 = 6\n",
      "4 * 7 = 7\n",
      "4 * 8 = 8\n",
      "4 * 9 = 9\n",
      "\n",
      "6 * 1 = 1\n",
      "6 * 2 = 2\n",
      "6 * 3 = 3\n",
      "6 * 4 = 4\n",
      "6 * 5 = 5\n",
      "6 * 6 = 6\n",
      "6 * 7 = 7\n",
      "6 * 8 = 8\n",
      "6 * 9 = 9\n",
      "\n",
      "7 * 1 = 1\n",
      "7 * 2 = 2\n",
      "7 * 3 = 3\n",
      "7 * 4 = 4\n",
      "7 * 5 = 5\n",
      "7 * 6 = 6\n",
      "7 * 7 = 7\n",
      "7 * 8 = 8\n",
      "7 * 9 = 9\n",
      "\n",
      "8 * 1 = 1\n",
      "8 * 2 = 2\n",
      "8 * 3 = 3\n",
      "8 * 4 = 4\n",
      "8 * 5 = 5\n",
      "8 * 6 = 6\n",
      "8 * 7 = 7\n",
      "8 * 8 = 8\n",
      "8 * 9 = 9\n",
      "\n",
      "9 * 1 = 1\n",
      "9 * 2 = 2\n",
      "9 * 3 = 3\n",
      "9 * 4 = 4\n",
      "9 * 5 = 5\n",
      "9 * 6 = 6\n",
      "9 * 7 = 7\n",
      "9 * 8 = 8\n",
      "9 * 9 = 9\n",
      "\n"
     ]
    }
   ],
   "source": [
    "# 기본 4  2,5단 빼고 출력\n",
    "for i in range(1,10):\n",
    "    if (i!=2) & (i!=5):\n",
    "        for j in range(1,10):\n",
    "            print('%d * %d = %d'%(i,j,1*j))\n",
    "        print('')"
   ]
  },
  {
   "cell_type": "code",
   "execution_count": 42,
   "id": "a39bc393",
   "metadata": {},
   "outputs": [
    {
     "name": "stdout",
     "output_type": "stream",
     "text": [
      "*\n",
      "**\n",
      "***\n",
      "****\n",
      "*****\n"
     ]
    }
   ],
   "source": [
    "# 기본 5 *출력\n",
    "for i in range(1,6):\n",
    "    for j in range(1,i+1):\n",
    "        print('*',end='')\n",
    "    print('')"
   ]
  },
  {
   "cell_type": "code",
   "execution_count": 21,
   "id": "f2c62ef0",
   "metadata": {},
   "outputs": [
    {
     "name": "stdout",
     "output_type": "stream",
     "text": [
      "*\n",
      "**\n",
      "***\n",
      "****\n",
      "*****\n"
     ]
    }
   ],
   "source": [
    "for i in range(1,6):\n",
    "    print('*'* i)"
   ]
  },
  {
   "cell_type": "code",
   "execution_count": 24,
   "id": "8466197f",
   "metadata": {},
   "outputs": [
    {
     "name": "stdout",
     "output_type": "stream",
     "text": [
      "*****\n",
      "****\n",
      "***\n",
      "**\n",
      "*\n"
     ]
    }
   ],
   "source": [
    "# 기본 6 *출력2\n",
    "for i in range(5,0,-1):\n",
    "    for j in range(1,i+1):\n",
    "        print('*',end='')\n",
    "    print('')"
   ]
  },
  {
   "cell_type": "code",
   "execution_count": 25,
   "id": "7c244da7",
   "metadata": {},
   "outputs": [
    {
     "name": "stdout",
     "output_type": "stream",
     "text": [
      "*****\n",
      "****\n",
      "***\n",
      "**\n",
      "*\n"
     ]
    }
   ],
   "source": [
    "for i in range(5,0,-1):\n",
    "    print('*'* i)"
   ]
  },
  {
   "cell_type": "code",
   "execution_count": null,
   "id": "d7058c6d",
   "metadata": {},
   "outputs": [],
   "source": [
    "# 조건문 반복문 응용2"
   ]
  },
  {
   "cell_type": "code",
   "execution_count": 27,
   "id": "4c6af9c4",
   "metadata": {},
   "outputs": [
    {
     "name": "stdout",
     "output_type": "stream",
     "text": [
      "1\n",
      "2\n",
      "3\n",
      "6\n"
     ]
    }
   ],
   "source": [
    "# 기본 7  두 양의 정수의 공약수 출력\n",
    "a = 12\n",
    "b = 6\n",
    "for i in range(1,b+1):\n",
    "    if (a%i==0) & (b%i==0):\n",
    "        print(i)"
   ]
  },
  {
   "cell_type": "code",
   "execution_count": 43,
   "id": "f5c470dd",
   "metadata": {},
   "outputs": [
    {
     "name": "stdout",
     "output_type": "stream",
     "text": [
      "6\n"
     ]
    }
   ],
   "source": [
    "# 기본 8  최대공약수 출력\n",
    "a = 12\n",
    "b = 6\n",
    "result = []\n",
    "for i in range(1,b+1):\n",
    "    if (a%i==0) & (b%i==0):\n",
    "        result.append(i)\n",
    "print(result[-1])"
   ]
  },
  {
   "cell_type": "code",
   "execution_count": 44,
   "id": "672457c8",
   "metadata": {},
   "outputs": [
    {
     "name": "stdout",
     "output_type": "stream",
     "text": [
      "6\n"
     ]
    }
   ],
   "source": [
    "for i in range(b,0,-1):\n",
    "    if (a%i==0)&(b%i==0):\n",
    "        print(i)\n",
    "        break"
   ]
  },
  {
   "cell_type": "code",
   "execution_count": 46,
   "id": "5270445a",
   "metadata": {
    "scrolled": true
   },
   "outputs": [
    {
     "name": "stdout",
     "output_type": "stream",
     "text": [
      "6\n"
     ]
    }
   ],
   "source": [
    "c = 0\n",
    "for i in range(1,a+1):\n",
    "    if (a%i==0)&(b%i==0):\n",
    "        c = i\n",
    "        \n",
    "print(c)"
   ]
  },
  {
   "cell_type": "code",
   "execution_count": 48,
   "id": "f8e523b2",
   "metadata": {},
   "outputs": [
    {
     "name": "stdout",
     "output_type": "stream",
     "text": [
      "12\n"
     ]
    }
   ],
   "source": [
    "# 기본 9  최소공배수 출력\n",
    "a = 12\n",
    "b = 6\n",
    "for i in range(1,a*b+1):\n",
    "    if (i%a==0)&(i%b==0):\n",
    "        print(i)\n",
    "        break"
   ]
  },
  {
   "cell_type": "code",
   "execution_count": 54,
   "id": "76e461fd",
   "metadata": {},
   "outputs": [
    {
     "name": "stdout",
     "output_type": "stream",
     "text": [
      "[2, 3, 5, 7, 11, 13, 17, 19, 23, 29, 31, 37, 41, 43, 47, 53, 59, 61, 67, 71, 73, 79, 83, 89, 97]\n"
     ]
    }
   ],
   "source": [
    "# 기본 10 2~100 까지 소수 출력\n",
    "a = []\n",
    "for i in range(2,101):\n",
    "    count = 0\n",
    "    for j in range(1,i+1):\n",
    "        if i%j==0:\n",
    "            count+=1\n",
    "    if count == 2:\n",
    "        a.append(i)\n",
    "print(a)"
   ]
  },
  {
   "cell_type": "code",
   "execution_count": 55,
   "id": "4d846a83",
   "metadata": {},
   "outputs": [
    {
     "name": "stdout",
     "output_type": "stream",
     "text": [
      "[2, 3, 5, 7, 11, 13, 17, 19, 23, 29, 31, 37, 41, 43, 47, 53, 59, 61, 67, 71, 73, 79, 83, 89, 97]\n"
     ]
    }
   ],
   "source": [
    "a = []\n",
    "for i in range(2,101):\n",
    "    for j in range(2,i+1):\n",
    "        if i==j:\n",
    "            a.append(i)\n",
    "        if i%j==0:\n",
    "            break\n",
    "print(a)"
   ]
  },
  {
   "cell_type": "code",
   "execution_count": null,
   "id": "ec5dadea",
   "metadata": {},
   "outputs": [],
   "source": [
    "# 함수 응용"
   ]
  },
  {
   "cell_type": "code",
   "execution_count": 58,
   "id": "022a3e43",
   "metadata": {},
   "outputs": [
    {
     "name": "stdout",
     "output_type": "stream",
     "text": [
      "7\n",
      "<class 'int'>\n"
     ]
    }
   ],
   "source": [
    "# 함수 1  최대공약수 리턴하는 함수\n",
    "def gcd(a,b):\n",
    "    for i in range(b,0,-1):\n",
    "        if (a%i==0)&(b%i==0):\n",
    "            return i\n",
    "gcd(12,6)\n",
    "a = gcd(7,21)\n",
    "print(a)\n",
    "print(type(a))"
   ]
  },
  {
   "cell_type": "code",
   "execution_count": 61,
   "id": "3acbce14",
   "metadata": {},
   "outputs": [
    {
     "name": "stdout",
     "output_type": "stream",
     "text": [
      "6\n",
      "7\n",
      "None\n",
      "<class 'NoneType'>\n"
     ]
    }
   ],
   "source": [
    "# 함수 2   최대공약수 출력\n",
    "def gcd(a,b):\n",
    "    for i in range(b,0,-1):\n",
    "        if (a%i==0)&(b%i==0):\n",
    "            print(i)\n",
    "            break\n",
    "gcd(12,6)\n",
    "a = gcd(21,7)\n",
    "print(a)\n",
    "print(type(a))\n",
    "# 리턴이 없으므로 할당 안됨"
   ]
  },
  {
   "cell_type": "code",
   "execution_count": 65,
   "id": "01dc1666",
   "metadata": {},
   "outputs": [
    {
     "name": "stdout",
     "output_type": "stream",
     "text": [
      "[1, 2, 3, 6]\n",
      "<class 'list'>\n"
     ]
    }
   ],
   "source": [
    "# 공약수 리스트\n",
    "def cd(a,b):\n",
    "    result = []\n",
    "    for i in range(1,a+1):\n",
    "        if (a%i==0)&(b%i==0):\n",
    "            result.append(i)\n",
    "    return result\n",
    "\n",
    "a = cd(12,6)\n",
    "print(a)\n",
    "print(type(a))"
   ]
  },
  {
   "cell_type": "code",
   "execution_count": 69,
   "id": "d8cdfacd",
   "metadata": {},
   "outputs": [
    {
     "name": "stdout",
     "output_type": "stream",
     "text": [
      "12\n",
      "<class 'int'>\n"
     ]
    }
   ],
   "source": [
    "# 함수 3  최소공배수를 리턴\n",
    "def lcm(a,b):\n",
    "    for i in range(1,a*b+1):\n",
    "        if (i%a==0)&(i%b==0):\n",
    "            return i\n",
    "print(lcm(12,6))\n",
    "print(type(lcm(12,6)))"
   ]
  },
  {
   "cell_type": "code",
   "execution_count": 72,
   "id": "548eb433",
   "metadata": {},
   "outputs": [
    {
     "name": "stdout",
     "output_type": "stream",
     "text": [
      "12\n"
     ]
    }
   ],
   "source": [
    "# 함수 4  최소공배수 출력\n",
    "def lcm(a,b):\n",
    "    for i in range(1,a*b+1):\n",
    "        if (i%a==0)&(i%b==0):\n",
    "            print(i)\n",
    "            break\n",
    "lcm(12,6)"
   ]
  },
  {
   "cell_type": "code",
   "execution_count": 78,
   "id": "51cc60ed",
   "metadata": {},
   "outputs": [
    {
     "name": "stdout",
     "output_type": "stream",
     "text": [
      "[2, 3, 5, 7, 11, 13, 17, 19, 23, 29, 31, 37, 41, 43, 47, 53, 59, 61, 67, 71, 73, 79, 83, 89, 97]\n"
     ]
    }
   ],
   "source": [
    "# 함수 5 소수 츨력\n",
    "def prime(a):\n",
    "    num = []\n",
    "    for i in range(2,a+1):\n",
    "        count=0\n",
    "        for j in range(1,i+1):\n",
    "            if i%j==0:\n",
    "                count+=1\n",
    "        if count==2:\n",
    "            num.append(i)\n",
    "    return num\n",
    "print(prime(100))"
   ]
  },
  {
   "cell_type": "code",
   "execution_count": null,
   "id": "f530b4c7",
   "metadata": {},
   "outputs": [],
   "source": [
    "# 과제 1 & 응용"
   ]
  },
  {
   "cell_type": "code",
   "execution_count": 83,
   "id": "9e778b29",
   "metadata": {},
   "outputs": [
    {
     "name": "stdout",
     "output_type": "stream",
     "text": [
      "정수1 : 3\n",
      "정수2 : 5\n",
      " \n",
      "정수1 : 5\n",
      "정수2 : 3\n"
     ]
    }
   ],
   "source": [
    "# 문제 1 swap\n",
    "a = int(input('정수1 : '))\n",
    "b = int(input('정수2 : '))\n",
    "c = a\n",
    "a = b\n",
    "b = c\n",
    "print(' ')\n",
    "print('정수1 : %d'%a)\n",
    "print('정수2 : %d'%b)"
   ]
  },
  {
   "cell_type": "code",
   "execution_count": 85,
   "id": "8d8d35ac",
   "metadata": {},
   "outputs": [
    {
     "name": "stdout",
     "output_type": "stream",
     "text": [
      "mile값 입력 : 3\n",
      "3.000 mile은 4827.000 km이다.\n"
     ]
    }
   ],
   "source": [
    "# 문제 2  mile & km\n",
    "mile = float(input('mile값 입력 : '))\n",
    "km = 1609 * mile\n",
    "print('%.3f mile은 %.3f km이다.'%(mile,km))"
   ]
  },
  {
   "cell_type": "code",
   "execution_count": 87,
   "id": "7a8a08cb",
   "metadata": {},
   "outputs": [
    {
     "name": "stdout",
     "output_type": "stream",
     "text": [
      "반지름 : 5\n",
      "원넓이 : 78.50\n"
     ]
    }
   ],
   "source": [
    "# 문제 3  원의 넓이 출력\n",
    "r = int(input('반지름 : '))\n",
    "pi = 3.14\n",
    "s = r**2*pi\n",
    "print('원넓이 : %.2f'%s)"
   ]
  },
  {
   "cell_type": "code",
   "execution_count": 94,
   "id": "152d7c62",
   "metadata": {},
   "outputs": [
    {
     "name": "stdout",
     "output_type": "stream",
     "text": [
      "반지름 입력 : 5\n",
      "[5, 3.14, 78.5]\n",
      "<class 'list'>\n",
      "78.5\n",
      "3.14\n",
      "5\n"
     ]
    }
   ],
   "source": [
    "# 문제 4 리스트관련\n",
    "circle = []\n",
    "r = int(input('반지름 입력 : '))\n",
    "circle.append(r)\n",
    "pi = 3.14\n",
    "circle.append(pi)\n",
    "s = r**2*pi\n",
    "circle.append(s)\n",
    "print(circle)\n",
    "print(type(circle))\n",
    "\n",
    "print(circle.pop())\n",
    "print(circle.pop())\n",
    "print(circle.pop())"
   ]
  },
  {
   "cell_type": "code",
   "execution_count": 97,
   "id": "fc6d2180",
   "metadata": {
    "scrolled": true
   },
   "outputs": [
    {
     "name": "stdout",
     "output_type": "stream",
     "text": [
      "논리형 a를 숫자로 입력하세요 1/0 : 1\n",
      "논리형 b를 숫자로 입력하세요 1/0 : 0\n",
      "True\n"
     ]
    }
   ],
   "source": [
    "# 문제 5  NAND\n",
    "a = int(input('논리형 a를 숫자로 입력하세요 1/0 : '))\n",
    "b = int(input('논리형 b를 숫자로 입력하세요 1/0 : '))\n",
    "a = bool(a)\n",
    "b = bool(b)\n",
    "NAND = not(a and b)\n",
    "print(a)"
   ]
  },
  {
   "cell_type": "code",
   "execution_count": null,
   "id": "64e0052d",
   "metadata": {},
   "outputs": [],
   "source": [
    "# 과제2 1~6번은 기본 문제"
   ]
  },
  {
   "cell_type": "code",
   "execution_count": 104,
   "id": "09002194",
   "metadata": {
    "collapsed": true
   },
   "outputs": [
    {
     "name": "stdout",
     "output_type": "stream",
     "text": [
      "*\n",
      "**\n",
      "***\n",
      "****\n",
      "*****\n",
      "****\n",
      "***\n",
      "**\n",
      "*\n"
     ]
    }
   ],
   "source": [
    "# 응용 문제 별찍기\n",
    "for i in range(1,6):\n",
    "    print('*'*i)\n",
    "for i in range(4,0,-1):\n",
    "    print('*'*i)"
   ]
  },
  {
   "cell_type": "code",
   "execution_count": 103,
   "id": "74b69900",
   "metadata": {
    "collapsed": true
   },
   "outputs": [
    {
     "name": "stdout",
     "output_type": "stream",
     "text": [
      "*\n",
      "**\n",
      "***\n",
      "****\n",
      "*****\n",
      "****\n",
      "***\n",
      "**\n",
      "*\n"
     ]
    }
   ],
   "source": [
    "for i in range(1,6):\n",
    "    for j in range(1,i+1):\n",
    "        print('*',end='')\n",
    "    print('')\n",
    "for i in range(4,0,-1):\n",
    "    for j in range(1,i+1):\n",
    "        print('*',end='')\n",
    "    print('')"
   ]
  },
  {
   "cell_type": "code",
   "execution_count": 105,
   "id": "bc848488",
   "metadata": {},
   "outputs": [
    {
     "name": "stdout",
     "output_type": "stream",
     "text": [
      "정수 : 5\n",
      "5는 array에 있습니다.\n",
      "\n"
     ]
    }
   ],
   "source": [
    "# 문제 7 리스트안에 있는지 확인하는 문제\n",
    "array = [1,2,5,6,8,9,11,31,26,29]\n",
    "a = int(input('정수 : '))\n",
    "if a in array:\n",
    "    print('%d는 array에 있습니다.\\n'%a)\n",
    "else:\n",
    "    print('%d는 array에 없습니다.\\n'%a)"
   ]
  },
  {
   "cell_type": "code",
   "execution_count": 114,
   "id": "b329f79a",
   "metadata": {},
   "outputs": [
    {
     "name": "stdout",
     "output_type": "stream",
     "text": [
      "정수 : 29\n",
      "29는 array에 있습니다.\n",
      "\n"
     ]
    }
   ],
   "source": [
    "array = [1,2,5,6,8,9,11,31,26,29]\n",
    "a = int(input('정수 : '))\n",
    "for i in range(len(array)):\n",
    "    if array[i]==a:\n",
    "        print('%d는 array에 있습니다.\\n'%a)\n",
    "        break\n",
    "    if i == len(array)-1:\n",
    "        print('%d는 array에 없습니다.\\n'%a)"
   ]
  },
  {
   "cell_type": "code",
   "execution_count": 115,
   "id": "400d37dc",
   "metadata": {},
   "outputs": [
    {
     "name": "stdout",
     "output_type": "stream",
     "text": [
      "원의 중심의 x좌표 : 0\n",
      "원의 중심의 y좌표 : 0\n",
      "원의 반지름 : 1\n",
      "다른 한 점의 x좌표 : 3\n",
      "다른 한 점의 y좌표 : 3\n",
      "점(3.00,3.00)는 원 내부에 없음\n"
     ]
    }
   ],
   "source": [
    "# 문제 8\n",
    "a = float(input('원의 중심의 x좌표 : '))\n",
    "b = float(input('원의 중심의 y좌표 : '))\n",
    "r = float(input('원의 반지름 : '))\n",
    "x = float(input('다른 한 점의 x좌표 : '))\n",
    "y = float(input('다른 한 점의 y좌표 : '))\n",
    "\n",
    "if (x - a)**2 + (y - b)**2 < r**2:\n",
    "    print('점(%.2f,%.2f)는 원 내부에 있음'%(x,y))\n",
    "else:\n",
    "    print('점(%.2f,%.2f)는 원 내부에 없음'%(x,y))"
   ]
  }
 ],
 "metadata": {
  "kernelspec": {
   "display_name": "Python 3",
   "language": "python",
   "name": "python3"
  },
  "language_info": {
   "codemirror_mode": {
    "name": "ipython",
    "version": 3
   },
   "file_extension": ".py",
   "mimetype": "text/x-python",
   "name": "python",
   "nbconvert_exporter": "python",
   "pygments_lexer": "ipython3",
   "version": "3.8.8"
  }
 },
 "nbformat": 4,
 "nbformat_minor": 5
}
