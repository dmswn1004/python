{
 "cells": [
  {
   "cell_type": "code",
   "execution_count": 5,
   "id": "d8895708",
   "metadata": {},
   "outputs": [],
   "source": [
    "# 과제 3-5 소수리턴\n",
    "def prime():\n",
    "    n = int(input('input : '))\n",
    "    prime_num = []\n",
    "    for i in range(2,n+1):\n",
    "        for j in range(2,i+1):\n",
    "            if i==j:\n",
    "                prime_num.append(i)\n",
    "            if i%j==0:\n",
    "                break\n",
    "    return prime_num"
   ]
  },
  {
   "cell_type": "code",
   "execution_count": 6,
   "id": "6748bbd2",
   "metadata": {
    "scrolled": true
   },
   "outputs": [
    {
     "name": "stdout",
     "output_type": "stream",
     "text": [
      "input : 50\n"
     ]
    },
    {
     "data": {
      "text/plain": [
       "[2, 3, 5, 7, 11, 13, 17, 19, 23, 29, 31, 37, 41, 43, 47]"
      ]
     },
     "execution_count": 6,
     "metadata": {},
     "output_type": "execute_result"
    }
   ],
   "source": [
    "prime()"
   ]
  },
  {
   "cell_type": "code",
   "execution_count": 9,
   "id": "a8018704",
   "metadata": {},
   "outputs": [],
   "source": [
    "def prime():\n",
    "    n = int(input('input : '))\n",
    "    prime_num = []\n",
    "    for i in range(2,n+1):\n",
    "        count = 0\n",
    "        for j in range(1,i+1):\n",
    "            if i%j==0:\n",
    "                count += 1\n",
    "        if count == 2:\n",
    "            prime_num.append(i)\n",
    "    return prime_num"
   ]
  },
  {
   "cell_type": "code",
   "execution_count": 10,
   "id": "eee55f0c",
   "metadata": {},
   "outputs": [
    {
     "name": "stdout",
     "output_type": "stream",
     "text": [
      "input : 50\n"
     ]
    },
    {
     "data": {
      "text/plain": [
       "[2, 3, 5, 7, 11, 13, 17, 19, 23, 29, 31, 37, 41, 43, 47]"
      ]
     },
     "execution_count": 10,
     "metadata": {},
     "output_type": "execute_result"
    }
   ],
   "source": [
    "prime()"
   ]
  },
  {
   "cell_type": "code",
   "execution_count": 18,
   "id": "c1da3a9b",
   "metadata": {},
   "outputs": [],
   "source": [
    "# 과제 3-6 소수 여부 판단\n",
    "def prime_tester():\n",
    "    n = int(input('input : '))\n",
    "    for i in range(2,n+1):\n",
    "        if n==i:\n",
    "            print('%d : prime'%n)\n",
    "        elif n%i==0:\n",
    "            print('%d : non prime'%n)\n",
    "            break"
   ]
  },
  {
   "cell_type": "code",
   "execution_count": 19,
   "id": "a15786bc",
   "metadata": {},
   "outputs": [
    {
     "name": "stdout",
     "output_type": "stream",
     "text": [
      "input : 7\n",
      "7 : prime\n"
     ]
    }
   ],
   "source": [
    "prime_tester()"
   ]
  },
  {
   "cell_type": "code",
   "execution_count": 21,
   "id": "967ea027",
   "metadata": {},
   "outputs": [],
   "source": [
    "# 과제 4 오름차순 정렬\n",
    "def sort(*args):\n",
    "    data = list(args)\n",
    "    for i in range(len(data)-1):\n",
    "        for j in range(len(data)-1-i):\n",
    "            if data[j]>data[j+1]:\n",
    "                temp = data[j]\n",
    "                data[j] = data[j+1]\n",
    "                data[j+1] = temp\n",
    "    return data"
   ]
  },
  {
   "cell_type": "code",
   "execution_count": 22,
   "id": "52590ef2",
   "metadata": {},
   "outputs": [
    {
     "data": {
      "text/plain": [
       "[1, 2, 3, 6, 7]"
      ]
     },
     "execution_count": 22,
     "metadata": {},
     "output_type": "execute_result"
    }
   ],
   "source": [
    "sort(2,7,1,3,6)"
   ]
  },
  {
   "cell_type": "code",
   "execution_count": 13,
   "id": "947c0db5",
   "metadata": {},
   "outputs": [
    {
     "data": {
      "text/plain": [
       "[1, 2, 3, 3, 5, 7]"
      ]
     },
     "execution_count": 13,
     "metadata": {},
     "output_type": "execute_result"
    }
   ],
   "source": [
    "def sort(*args):\n",
    "    data = list(args)\n",
    "    for i in range(len(data)-1):\n",
    "        for j in range(len(data)-1-i):\n",
    "            if data[j]>data[j+1]:\n",
    "                temp = data[j]\n",
    "                data[j] = data[j+1]\n",
    "                data[j+1] = temp\n",
    "    return data\n",
    "sort(1,5,2,3,7,3)"
   ]
  },
  {
   "cell_type": "code",
   "execution_count": 25,
   "id": "9e32aec0",
   "metadata": {
    "collapsed": true
   },
   "outputs": [
    {
     "name": "stdout",
     "output_type": "stream",
     "text": [
      "1: 4\n",
      "2: 6\n",
      "3: 8\n",
      "4: 9\n",
      "5: 10\n",
      "6: 12\n",
      "7: 14\n",
      "8: 15\n",
      "9: 16\n",
      "10: 18\n",
      "11: 20\n",
      "12: 21\n",
      "13: 22\n",
      "14: 24\n",
      "15: 25\n",
      "16: 26\n",
      "17: 27\n",
      "18: 28\n",
      "19: 30\n",
      "20: 32\n",
      "21: 33\n",
      "22: 34\n",
      "23: 35\n",
      "24: 36\n",
      "25: 38\n",
      "26: 39\n",
      "27: 40\n",
      "28: 42\n",
      "29: 44\n",
      "30: 45\n",
      "31: 46\n",
      "32: 48\n",
      "33: 49\n",
      "34: 50\n",
      "35: 51\n",
      "36: 52\n",
      "37: 54\n",
      "38: 55\n",
      "39: 56\n",
      "40: 57\n",
      "41: 58\n",
      "42: 60\n",
      "43: 62\n",
      "44: 63\n",
      "45: 64\n",
      "46: 65\n",
      "47: 66\n",
      "48: 68\n",
      "49: 69\n",
      "50: 70\n",
      "51: 72\n",
      "52: 74\n",
      "53: 75\n",
      "54: 76\n",
      "55: 77\n",
      "56: 78\n",
      "57: 80\n",
      "58: 81\n",
      "59: 82\n",
      "60: 84\n",
      "61: 85\n",
      "62: 86\n",
      "63: 87\n",
      "64: 88\n",
      "65: 90\n",
      "66: 91\n",
      "67: 92\n",
      "68: 93\n",
      "69: 94\n",
      "70: 95\n",
      "71: 96\n",
      "72: 98\n",
      "73: 99\n",
      "74: 100\n"
     ]
    }
   ],
   "source": [
    "# 파이썬 스타일 코드 응용 8 (번호: 소수 아닌수)\n",
    "non_prime = list(set([i for i in range(2,101) for j in range(2,i) if i%j==0]))\n",
    "for i,j in enumerate(non_prime):\n",
    "    print('%d: %d'%(i+1,j))"
   ]
  },
  {
   "cell_type": "code",
   "execution_count": 33,
   "id": "5c882109",
   "metadata": {},
   "outputs": [],
   "source": [
    "def perfect(n):\n",
    "    div = [i for i in range(1,n) if n%i==0 ]\n",
    "    result = sum(div)\n",
    "    if result==n:\n",
    "        return 1\n",
    "    else:\n",
    "        return 0"
   ]
  },
  {
   "cell_type": "code",
   "execution_count": 38,
   "id": "fd412e7c",
   "metadata": {},
   "outputs": [
    {
     "data": {
      "text/plain": [
       "0"
      ]
     },
     "execution_count": 38,
     "metadata": {},
     "output_type": "execute_result"
    }
   ],
   "source": [
    "perfect(26)"
   ]
  },
  {
   "cell_type": "code",
   "execution_count": 5,
   "id": "e0734b1f",
   "metadata": {},
   "outputs": [],
   "source": [
    "def rice():\n",
    "    n = int(input('input : '))\n",
    "    count = 0\n",
    "    while True:\n",
    "        if n%5==0:\n",
    "            count += n//5\n",
    "            return count\n",
    "        n -= 3\n",
    "        count += 1"
   ]
  },
  {
   "cell_type": "code",
   "execution_count": 6,
   "id": "7539931b",
   "metadata": {
    "scrolled": true
   },
   "outputs": [
    {
     "name": "stdout",
     "output_type": "stream",
     "text": [
      "input : 5\n"
     ]
    },
    {
     "data": {
      "text/plain": [
       "1"
      ]
     },
     "execution_count": 6,
     "metadata": {},
     "output_type": "execute_result"
    }
   ],
   "source": [
    "rice()"
   ]
  },
  {
   "cell_type": "code",
   "execution_count": 10,
   "id": "d97e63c8",
   "metadata": {},
   "outputs": [],
   "source": [
    "def f():\n",
    "    n = int(input('input : '))\n",
    "    c3 = 0\n",
    "    c5 = 0\n",
    "    while True:\n",
    "        if n%5==0:\n",
    "            c5 += n//5\n",
    "            return min(c3,c5)\n",
    "        n -= 3\n",
    "        c3 += 1\n",
    "    if n<0:\n",
    "        return -1"
   ]
  },
  {
   "cell_type": "code",
   "execution_count": 12,
   "id": "541f6bb9",
   "metadata": {},
   "outputs": [
    {
     "name": "stdout",
     "output_type": "stream",
     "text": [
      "input : 21\n"
     ]
    },
    {
     "data": {
      "text/plain": [
       "2"
      ]
     },
     "execution_count": 12,
     "metadata": {},
     "output_type": "execute_result"
    }
   ],
   "source": [
    "f()"
   ]
  }
 ],
 "metadata": {
  "kernelspec": {
   "display_name": "Python 3",
   "language": "python",
   "name": "python3"
  },
  "language_info": {
   "codemirror_mode": {
    "name": "ipython",
    "version": 3
   },
   "file_extension": ".py",
   "mimetype": "text/x-python",
   "name": "python",
   "nbconvert_exporter": "python",
   "pygments_lexer": "ipython3",
   "version": "3.8.8"
  }
 },
 "nbformat": 4,
 "nbformat_minor": 5
}
