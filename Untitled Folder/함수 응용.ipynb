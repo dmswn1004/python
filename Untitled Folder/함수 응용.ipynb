{
 "cells": [
  {
   "cell_type": "code",
   "execution_count": 3,
   "id": "467ef226",
   "metadata": {},
   "outputs": [
    {
     "name": "stdout",
     "output_type": "stream",
     "text": [
      "7\n",
      "<class 'int'>\n"
     ]
    }
   ],
   "source": [
    "# 함수 1 최대공약수 리턴\n",
    "a = 12\n",
    "b = 6\n",
    "def gcd(a,b):\n",
    "    for i in range(b,0,-1):\n",
    "        if (a%i==0) and (b%i==0):\n",
    "            return(i)     \n",
    "#             break\n",
    "gcd(12,6)\n",
    "a = gcd(21,7)\n",
    "print(a)\n",
    "print(type(a))"
   ]
  },
  {
   "cell_type": "code",
   "execution_count": 2,
   "id": "1eb00917",
   "metadata": {},
   "outputs": [
    {
     "name": "stdout",
     "output_type": "stream",
     "text": [
      "7\n",
      "None\n",
      "<class 'NoneType'>\n"
     ]
    }
   ],
   "source": [
    "# 함수 2  최대공약수 출력\n",
    "def gcd(a,b):\n",
    "    for i in range(b,0,-1):\n",
    "        if (a%i==0) and (b%i==0):\n",
    "            print(i)     \n",
    "            break\n",
    "\n",
    "a = gcd(21,7)\n",
    "print(a)\n",
    "print(type(a))\n",
    "# 리턴이 없는 경우 할당이 안됨"
   ]
  },
  {
   "cell_type": "code",
   "execution_count": 4,
   "id": "b5ca6083",
   "metadata": {},
   "outputs": [
    {
     "name": "stdout",
     "output_type": "stream",
     "text": [
      "[1, 2, 3, 4, 6, 12]\n"
     ]
    }
   ],
   "source": [
    "# [참고] 두 수의 공약수 리턴\n",
    "def cd(a,b):\n",
    "    result = []\n",
    "    for i in range(1,a+1):\n",
    "        if(a%i==0) and (b%i==0):\n",
    "            result.append(i)\n",
    "    return result\n",
    "\n",
    "num = cd(12,24)\n",
    "print(num)"
   ]
  },
  {
   "cell_type": "code",
   "execution_count": 7,
   "id": "f8f5433f",
   "metadata": {},
   "outputs": [
    {
     "name": "stdout",
     "output_type": "stream",
     "text": [
      "12\n"
     ]
    }
   ],
   "source": [
    "# 함수 3  최소공배수 리턴\n",
    "def lcm(a,b):\n",
    "    for i in range(a,a*b+1):\n",
    "        if (i%a==0) and (i%b==0):\n",
    "            return(i)\n",
    "print(lcm(12,6))"
   ]
  },
  {
   "cell_type": "code",
   "execution_count": 22,
   "id": "7a960371",
   "metadata": {},
   "outputs": [],
   "source": [
    "# 함수 4  최소공배수 출력\n",
    "def lcm(a,b):\n",
    "    for i in range(a,a*b+1):\n",
    "        if (i%a==0) and (i%b==0):\n",
    "            print(i)\n",
    "            break"
   ]
  },
  {
   "cell_type": "code",
   "execution_count": 8,
   "id": "ce2f9f6e",
   "metadata": {},
   "outputs": [
    {
     "data": {
      "text/plain": [
       "12"
      ]
     },
     "execution_count": 8,
     "metadata": {},
     "output_type": "execute_result"
    }
   ],
   "source": [
    "lcm(12,6)"
   ]
  },
  {
   "cell_type": "code",
   "execution_count": 14,
   "id": "2d8d0d56",
   "metadata": {
    "collapsed": true
   },
   "outputs": [
    {
     "name": "stdout",
     "output_type": "stream",
     "text": [
      "2\n",
      "3\n",
      "5\n",
      "7\n",
      "11\n",
      "13\n",
      "17\n",
      "19\n",
      "23\n",
      "29\n",
      "31\n",
      "37\n",
      "41\n",
      "43\n",
      "47\n",
      "53\n",
      "59\n",
      "61\n",
      "67\n",
      "71\n",
      "73\n",
      "79\n",
      "83\n",
      "89\n",
      "97\n"
     ]
    }
   ],
   "source": [
    "# 함수 5\n",
    "def prime(a):\n",
    "    for i in range(2,a+1):\n",
    "        count = 0\n",
    "        for j in range(1,i+1):\n",
    "            if i%j==0:\n",
    "                count += 1\n",
    "        if count==2:\n",
    "            print(i)\n",
    "\n",
    "prime(100)"
   ]
  },
  {
   "cell_type": "code",
   "execution_count": 13,
   "id": "6a5357b1",
   "metadata": {
    "scrolled": true
   },
   "outputs": [
    {
     "name": "stdout",
     "output_type": "stream",
     "text": [
      "[2, 3, 5, 7, 11, 13, 17, 19, 23, 29, 31, 37, 41, 43, 47, 53, 59, 61, 67, 71, 73, 79, 83, 89, 97]\n"
     ]
    }
   ],
   "source": [
    "# 참고\n",
    "def prime(a):\n",
    "    prime_num = []\n",
    "    for i in range(2,a+1):\n",
    "        count = 0\n",
    "        for j in range(1,i+1):\n",
    "            if i%j==0:\n",
    "                count += 1\n",
    "        if count==2:\n",
    "            prime_num.append(i)\n",
    "    return prime_num\n",
    "\n",
    "print(prime(100))"
   ]
  },
  {
   "cell_type": "code",
   "execution_count": 8,
   "id": "e7508b33",
   "metadata": {},
   "outputs": [
    {
     "name": "stdout",
     "output_type": "stream",
     "text": [
      "[2, 3, 5, 7, 11, 13, 17, 19, 23, 29, 31, 37, 41, 43, 47, 53, 59, 61, 67, 71, 73, 79, 83, 89, 97]\n"
     ]
    }
   ],
   "source": [
    "def prime(a):\n",
    "    prime_num = []\n",
    "    for i in range(2,a+1):\n",
    "        for j in range(2,i+1):\n",
    "            if i==j:\n",
    "                prime_num.append(i)\n",
    "            if i%j==0:\n",
    "                break\n",
    "    return prime_num\n",
    "\n",
    "print(prime(100))"
   ]
  }
 ],
 "metadata": {
  "kernelspec": {
   "display_name": "Python 3",
   "language": "python",
   "name": "python3"
  },
  "language_info": {
   "codemirror_mode": {
    "name": "ipython",
    "version": 3
   },
   "file_extension": ".py",
   "mimetype": "text/x-python",
   "name": "python",
   "nbconvert_exporter": "python",
   "pygments_lexer": "ipython3",
   "version": "3.8.8"
  }
 },
 "nbformat": 4,
 "nbformat_minor": 5
}
