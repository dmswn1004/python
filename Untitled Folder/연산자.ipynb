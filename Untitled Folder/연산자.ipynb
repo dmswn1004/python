{
 "cells": [
  {
   "cell_type": "code",
   "execution_count": 4,
   "id": "ee2aec86",
   "metadata": {},
   "outputs": [],
   "source": [
    "# 연산자"
   ]
  },
  {
   "cell_type": "code",
   "execution_count": 7,
   "id": "2cbe41f4",
   "metadata": {},
   "outputs": [
    {
     "name": "stdout",
     "output_type": "stream",
     "text": [
      "3\n",
      "-1\n",
      "30\n",
      "0.875\n",
      "8\n",
      "1\n",
      "0\n",
      "False\n",
      "3\n"
     ]
    }
   ],
   "source": [
    "# 산술 연산자\n",
    "# +,-,*,/\n",
    "print(1+2)\n",
    "print(3-4)\n",
    "print(5*6)\n",
    "print(7/8)\n",
    "\n",
    "# 제곱\n",
    "print(2**3)\n",
    "\n",
    "# 나머지\n",
    "print(7%2)\n",
    "print(8%2)\n",
    "a = 10\n",
    "print(a%3 == 0)\n",
    "\n",
    "# 나머지 버리는 나누기\n",
    "print(7//2)"
   ]
  },
  {
   "cell_type": "code",
   "execution_count": 8,
   "id": "e06cfb52",
   "metadata": {
    "scrolled": true
   },
   "outputs": [
    {
     "name": "stdout",
     "output_type": "stream",
     "text": [
      "False\n",
      "<class 'bool'>\n",
      "<class 'bool'>\n",
      "False\n",
      "True\n",
      "True\n",
      "True\n",
      "True\n"
     ]
    }
   ],
   "source": [
    "# 비교 연산자\n",
    "# >\n",
    "print(1>2)\n",
    "print(type(1>2))\n",
    "\n",
    "a = 1>2\n",
    "print(type(a))\n",
    "\n",
    "# >=\n",
    "print(1>=2)\n",
    "\n",
    "# <\n",
    "print(3<4)\n",
    "\n",
    "# <=\n",
    "print(3<=4)\n",
    "\n",
    "# ==\n",
    "print(3==3)\n",
    "\n",
    "# !=\n",
    "print(5!=3)"
   ]
  },
  {
   "cell_type": "code",
   "execution_count": 18,
   "id": "655ff2e0",
   "metadata": {},
   "outputs": [
    {
     "name": "stdout",
     "output_type": "stream",
     "text": [
      "False\n",
      "False\n",
      "True\n",
      "True\n",
      "False\n",
      "True\n"
     ]
    }
   ],
   "source": [
    "# 논리 연산자\n",
    "a = True\n",
    "b = False\n",
    "\n",
    "# and\n",
    "print(a and b)\n",
    "print(a&b)\n",
    "\n",
    "# or\n",
    "print(a or b)\n",
    "print(a | b)\n",
    "\n",
    "# not\n",
    "print(not True)\n",
    "print(not False)"
   ]
  },
  {
   "cell_type": "code",
   "execution_count": 9,
   "id": "7c933228",
   "metadata": {},
   "outputs": [
    {
     "name": "stdout",
     "output_type": "stream",
     "text": [
      "True\n",
      "False\n",
      "False\n",
      "True\n",
      "False\n"
     ]
    }
   ],
   "source": [
    "# 멤버 연산자\n",
    "# in\n",
    "a = [1,2,3]\n",
    "print(2 in a)\n",
    "print(4 in a)\n",
    "print(6 in [1,2,3])\n",
    "\n",
    "# not in\n",
    "print(4 not in a)\n",
    "print(3 not in a)"
   ]
  },
  {
   "cell_type": "code",
   "execution_count": 10,
   "id": "2e3a13c8",
   "metadata": {},
   "outputs": [
    {
     "name": "stdout",
     "output_type": "stream",
     "text": [
      "1\n"
     ]
    }
   ],
   "source": [
    "# 연산자 우선순위\n",
    "a = 1+(2**3)*3-(3*8)\n",
    "print(a)"
   ]
  }
 ],
 "metadata": {
  "kernelspec": {
   "display_name": "Python 3",
   "language": "python",
   "name": "python3"
  },
  "language_info": {
   "codemirror_mode": {
    "name": "ipython",
    "version": 3
   },
   "file_extension": ".py",
   "mimetype": "text/x-python",
   "name": "python",
   "nbconvert_exporter": "python",
   "pygments_lexer": "ipython3",
   "version": "3.8.8"
  }
 },
 "nbformat": 4,
 "nbformat_minor": 5
}
