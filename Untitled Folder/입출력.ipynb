{
 "cells": [
  {
   "cell_type": "code",
   "execution_count": 1,
   "id": "63142971",
   "metadata": {},
   "outputs": [
    {
     "name": "stdout",
     "output_type": "stream",
     "text": [
      "10\n",
      "10\n",
      "<class 'str'>\n"
     ]
    }
   ],
   "source": [
    "# 파이썬 입출력\n",
    "a = input()\n",
    "print(a)\n",
    "print(type(a))"
   ]
  },
  {
   "cell_type": "code",
   "execution_count": 2,
   "id": "4dc32dc0",
   "metadata": {
    "scrolled": true
   },
   "outputs": [
    {
     "name": "stdout",
     "output_type": "stream",
     "text": [
      "<class 'int'>\n"
     ]
    }
   ],
   "source": [
    "a = int(a)\n",
    "print(type(a))"
   ]
  },
  {
   "cell_type": "code",
   "execution_count": 3,
   "id": "f881b1ee",
   "metadata": {},
   "outputs": [
    {
     "name": "stdout",
     "output_type": "stream",
     "text": [
      "정수형을 입력하세요 : 20\n",
      "20\n",
      "<class 'int'>\n"
     ]
    }
   ],
   "source": [
    "b = int(input('정수형을 입력하세요 : '))\n",
    "print(b)\n",
    "print(type(b))"
   ]
  },
  {
   "cell_type": "code",
   "execution_count": 10,
   "id": "bf970167",
   "metadata": {},
   "outputs": [],
   "source": [
    "# 파일 쓰기\n",
    "file = open('c:/lecture/소수.txt','w')\n",
    "for i in range(2,101):\n",
    "    count = 0\n",
    "    for j in range(1,i+1):\n",
    "        if i%j==0:\n",
    "            count+= 1\n",
    "    if count==2:\n",
    "        file.write(str(i)+'\\n')\n",
    "file.close()"
   ]
  },
  {
   "cell_type": "code",
   "execution_count": 4,
   "id": "533b5ed3",
   "metadata": {},
   "outputs": [],
   "source": [
    "# 파일 읽기\n",
    "file = open('c:/lecture/소수.txt','r')\n",
    "prime = file.read()"
   ]
  },
  {
   "cell_type": "code",
   "execution_count": 15,
   "id": "6cab48e2",
   "metadata": {
    "collapsed": true
   },
   "outputs": [
    {
     "name": "stdout",
     "output_type": "stream",
     "text": [
      "2\n",
      "3\n",
      "5\n",
      "7\n",
      "11\n",
      "13\n",
      "17\n",
      "19\n",
      "23\n",
      "29\n",
      "31\n",
      "37\n",
      "41\n",
      "43\n",
      "47\n",
      "53\n",
      "59\n",
      "61\n",
      "67\n",
      "71\n",
      "73\n",
      "79\n",
      "83\n",
      "89\n",
      "97\n",
      "\n"
     ]
    }
   ],
   "source": [
    "print(prime)"
   ]
  },
  {
   "cell_type": "code",
   "execution_count": 16,
   "id": "0d2ac613",
   "metadata": {},
   "outputs": [
    {
     "name": "stdout",
     "output_type": "stream",
     "text": [
      "정수를 입력하시오 : 3\n",
      "정수를 입력하시오 : 6\n",
      "두 수 3와 6의 최대공약수는 3\n"
     ]
    }
   ],
   "source": [
    "# 입력문 1\n",
    "a = int(input('정수를 입력하시오 : '))\n",
    "b = int(input('정수를 입력하시오 : '))\n",
    "\n",
    "for i in range(b,0,-1):\n",
    "    if (a%i==0) and (b%i==0):\n",
    "        print('두 수 %d와 %d의 최대공약수는 %d'%(a,b,i))\n",
    "        break"
   ]
  },
  {
   "cell_type": "code",
   "execution_count": 22,
   "id": "bf7cc163",
   "metadata": {
    "scrolled": true
   },
   "outputs": [
    {
     "name": "stdout",
     "output_type": "stream",
     "text": [
      "정수를 입력하시오 : 12\n",
      "정수를 입력하시오 : 15\n",
      "두 수 12와 15의 최소공배수는 60\n"
     ]
    }
   ],
   "source": [
    "# 입력문 2\n",
    "a = int(input('정수를 입력하시오 : '))\n",
    "b = int(input('정수를 입력하시오 : '))\n",
    "\n",
    "for i in range(a,a*b+1):\n",
    "    if (i%a==0) and (i%b==0):\n",
    "        print('두 수 %d와 %d의 최소공배수는 %d'%(a,b,i))\n",
    "        break"
   ]
  },
  {
   "cell_type": "code",
   "execution_count": 24,
   "id": "40377644",
   "metadata": {
    "collapsed": true
   },
   "outputs": [
    {
     "name": "stdout",
     "output_type": "stream",
     "text": [
      "정수 입력 : 50\n",
      "2\n",
      "3\n",
      "5\n",
      "7\n",
      "11\n",
      "13\n",
      "17\n",
      "19\n",
      "23\n",
      "29\n",
      "31\n",
      "37\n",
      "41\n",
      "43\n",
      "47\n"
     ]
    }
   ],
   "source": [
    "# 입력문 3\n",
    "a = int(input('정수 입력 : '))\n",
    "for i in range(2,a+1):\n",
    "    count = 0\n",
    "    for j in range(1,i+1):\n",
    "        if i%j==0:\n",
    "            count+= 1\n",
    "    if count==2:\n",
    "        print(i)"
   ]
  },
  {
   "cell_type": "code",
   "execution_count": 20,
   "id": "2a8e2d02",
   "metadata": {},
   "outputs": [],
   "source": [
    "# 입력문 4\n",
    "def prime():\n",
    "    n = int(input('정수 입력 : '))\n",
    "    prime_num = []\n",
    "    \n",
    "    for i in range(2,n+1):\n",
    "        count = 0\n",
    "        for j in range(1,i+1):\n",
    "            if i%j==0:\n",
    "                count+= 1\n",
    "        if count==2:\n",
    "            prime_num.append(i)\n",
    "        \n",
    "    return prime_num"
   ]
  },
  {
   "cell_type": "code",
   "execution_count": 22,
   "id": "5ee25eca",
   "metadata": {},
   "outputs": [
    {
     "name": "stdout",
     "output_type": "stream",
     "text": [
      "정수 입력 : 50\n"
     ]
    }
   ],
   "source": [
    "prime()"
   ]
  },
  {
   "cell_type": "code",
   "execution_count": 23,
   "id": "3cbb47b0",
   "metadata": {},
   "outputs": [
    {
     "name": "stdout",
     "output_type": "stream",
     "text": [
      "[2, 3, 5, 7, 11, 13, 17, 19, 23, 29, 31, 37, 41, 43, 47]\n"
     ]
    }
   ],
   "source": [
    "print(a)"
   ]
  },
  {
   "cell_type": "code",
   "execution_count": 24,
   "id": "4df39ff3",
   "metadata": {},
   "outputs": [
    {
     "name": "stdout",
     "output_type": "stream",
     "text": [
      "<class 'list'>\n"
     ]
    }
   ],
   "source": [
    "print(type(a))"
   ]
  },
  {
   "cell_type": "code",
   "execution_count": 40,
   "id": "84db3110",
   "metadata": {},
   "outputs": [],
   "source": [
    "# 입력문 5\n",
    "# 방법 1\n",
    "def prime_tester():\n",
    "    a = int(input('정수 입력 : '))\n",
    "    count = 0\n",
    "    for i in range(1,a+1):\n",
    "        if a%i==0:\n",
    "            count += 1\n",
    "    if count == 2:\n",
    "        print('%d는 소수'%i)\n",
    "    else:\n",
    "        print('%d는 소수가 아님'%i)        "
   ]
  },
  {
   "cell_type": "code",
   "execution_count": 27,
   "id": "8f3040ed",
   "metadata": {},
   "outputs": [
    {
     "name": "stdout",
     "output_type": "stream",
     "text": [
      "정수 입력 : 59\n",
      "59는 소수\n"
     ]
    }
   ],
   "source": [
    "prime_tester()"
   ]
  },
  {
   "cell_type": "code",
   "execution_count": 26,
   "id": "3b0e1750",
   "metadata": {},
   "outputs": [],
   "source": [
    "# 방법 2\n",
    "def prime_tester():\n",
    "    a = int(input('정수 입력 : '))\n",
    "    for i in range(2,a+1):\n",
    "        if a==i:\n",
    "            print('%d는 소수'%a)\n",
    "        elif a%i==0:\n",
    "            print('%d는 소수가 아님'%a)\n",
    "            break"
   ]
  },
  {
   "cell_type": "code",
   "execution_count": 50,
   "id": "c14fed68",
   "metadata": {},
   "outputs": [
    {
     "name": "stdout",
     "output_type": "stream",
     "text": [
      "정수 입력 : 7\n",
      "7는 소수\n"
     ]
    }
   ],
   "source": [
    "prime_tester()"
   ]
  }
 ],
 "metadata": {
  "kernelspec": {
   "display_name": "Python 3",
   "language": "python",
   "name": "python3"
  },
  "language_info": {
   "codemirror_mode": {
    "name": "ipython",
    "version": 3
   },
   "file_extension": ".py",
   "mimetype": "text/x-python",
   "name": "python",
   "nbconvert_exporter": "python",
   "pygments_lexer": "ipython3",
   "version": "3.8.8"
  }
 },
 "nbformat": 4,
 "nbformat_minor": 5
}
