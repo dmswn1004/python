{
 "cells": [
  {
   "cell_type": "code",
   "execution_count": 1,
   "id": "bfe92c33",
   "metadata": {},
   "outputs": [],
   "source": [
    "# gcdlcm.py\n",
    "# GcdLcm 클래스\n",
    "class GcdLcm:\n",
    "    def __init__(self,num1,num2):\n",
    "        self.num1 = num1\n",
    "        self.num2 = num2\n",
    "    def gcd(self):\n",
    "        gcd_num = max([i for i in range(1,min(self.num1,self.num2)) \n",
    "                   if (self.num1%i==0) and (self.num2%i==0)])\n",
    "        return gcd_num\n",
    "    def lcm(self):\n",
    "        lcm_num = min([i for i in range(max(self.num1,self.num2),self.num1*self.num2+1) \n",
    "                    if (i%self.num1==0) and (i%self.num2==0)])\n",
    "        return lcm_num"
   ]
  }
 ],
 "metadata": {
  "kernelspec": {
   "display_name": "Python 3",
   "language": "python",
   "name": "python3"
  },
  "language_info": {
   "codemirror_mode": {
    "name": "ipython",
    "version": 3
   },
   "file_extension": ".py",
   "mimetype": "text/x-python",
   "name": "python",
   "nbconvert_exporter": "python",
   "pygments_lexer": "ipython3",
   "version": "3.8.8"
  }
 },
 "nbformat": 4,
 "nbformat_minor": 5
}
