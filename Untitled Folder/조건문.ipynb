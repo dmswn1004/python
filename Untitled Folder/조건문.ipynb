{
 "cells": [
  {
   "cell_type": "code",
   "execution_count": 2,
   "id": "cd54c06c",
   "metadata": {
    "scrolled": true
   },
   "outputs": [
    {
     "name": "stdout",
     "output_type": "stream",
     "text": [
      "a는 3보다 크다\n",
      "True\n",
      "<class 'bool'>\n"
     ]
    }
   ],
   "source": [
    "# 조건문\n",
    "# if문\n",
    "a = 5\n",
    "if a>3:\n",
    "    print('a는 3보다 크다')\n",
    "\n",
    "print(a>3)\n",
    "print(type(a>3))"
   ]
  },
  {
   "cell_type": "code",
   "execution_count": 2,
   "id": "c8d4f0d3",
   "metadata": {},
   "outputs": [
    {
     "name": "stdout",
     "output_type": "stream",
     "text": [
      "a<b | a=b\n"
     ]
    }
   ],
   "source": [
    "# else문\n",
    "a = 3\n",
    "b = 5\n",
    "if a>b:\n",
    "    print('a>b')\n",
    "else:\n",
    "    print('a<b | a=b')"
   ]
  },
  {
   "cell_type": "code",
   "execution_count": 1,
   "id": "4ce09abe",
   "metadata": {},
   "outputs": [
    {
     "name": "stdout",
     "output_type": "stream",
     "text": [
      "5는 3보다 크다\n"
     ]
    }
   ],
   "source": [
    "a = 5\n",
    "if a>3:\n",
    "    print('%d는 3보다 크다'%a)\n",
    "else:\n",
    "    print('%d는 3보다 작거나 같다'%a)"
   ]
  },
  {
   "cell_type": "code",
   "execution_count": 9,
   "id": "81ef6c48",
   "metadata": {},
   "outputs": [
    {
     "name": "stdout",
     "output_type": "stream",
     "text": [
      "a<b\n"
     ]
    }
   ],
   "source": [
    "# elif문\n",
    "a = 3\n",
    "b = 5\n",
    "if a>b:\n",
    "    print('a>b')\n",
    "elif a==b:\n",
    "    print('a==b')\n",
    "else:\n",
    "    print('a<b')"
   ]
  },
  {
   "cell_type": "code",
   "execution_count": 3,
   "id": "29bc0520",
   "metadata": {},
   "outputs": [
    {
     "name": "stdout",
     "output_type": "stream",
     "text": [
      "항상 실행\n"
     ]
    }
   ],
   "source": [
    "if True:\n",
    "    print('항상 실행')\n",
    "\n",
    "if False:\n",
    "    print('항상 실행하지 않음')"
   ]
  },
  {
   "cell_type": "code",
   "execution_count": 5,
   "id": "2cc58188",
   "metadata": {},
   "outputs": [
    {
     "name": "stdout",
     "output_type": "stream",
     "text": [
      "1,2,3 중에서 1가 가장 작다\n",
      "1,2,3 중에서 1가 가장 작다\n"
     ]
    }
   ],
   "source": [
    "# 중첩된 if문\n",
    "a = 1\n",
    "b = 2\n",
    "c = 3\n",
    "\n",
    "if a<b:\n",
    "    if a<c:\n",
    "        print('%d,%d,%d 중에서 %d가 가장 작다'%(a,b,c,a))\n",
    "    \n",
    "if a<b and a<c:\n",
    "     print('%d,%d,%d 중에서 %d가 가장 작다'%(a,b,c,a))"
   ]
  },
  {
   "cell_type": "code",
   "execution_count": 6,
   "id": "155a7f3d",
   "metadata": {},
   "outputs": [
    {
     "name": "stdout",
     "output_type": "stream",
     "text": [
      "a>=b\n",
      " \n",
      "a>=b\n",
      "a==b\n"
     ]
    }
   ],
   "source": [
    "# if문과 elif문의 차이점\n",
    "a = 1\n",
    "b = 1\n",
    "\n",
    "if a>=b:\n",
    "    print('a>=b')\n",
    "elif a==b:\n",
    "    print('a==b')\n",
    "elif a>b:\n",
    "    print('a>b')\n",
    "print(' ')\n",
    "# 앞의 if절이 참이므로 뒤 실행 하지 않음\n",
    "if a>=b:\n",
    "    print('a>=b')\n",
    "if a==b:\n",
    "    print('a==b')\n",
    "# 둘다 독립적인 if문이므로 둘 다 출력 "
   ]
  }
 ],
 "metadata": {
  "kernelspec": {
   "display_name": "Python 3",
   "language": "python",
   "name": "python3"
  },
  "language_info": {
   "codemirror_mode": {
    "name": "ipython",
    "version": 3
   },
   "file_extension": ".py",
   "mimetype": "text/x-python",
   "name": "python",
   "nbconvert_exporter": "python",
   "pygments_lexer": "ipython3",
   "version": "3.8.8"
  }
 },
 "nbformat": 4,
 "nbformat_minor": 5
}
