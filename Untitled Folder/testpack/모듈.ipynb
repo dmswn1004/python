{
 "cells": [
  {
   "cell_type": "code",
   "execution_count": null,
   "id": "31bd5d38",
   "metadata": {},
   "outputs": [],
   "source": [
    "!jupyter nbconvert --to script gcdlcm.ipynb"
   ]
  },
  {
   "cell_type": "code",
   "execution_count": 1,
   "id": "f4113c57",
   "metadata": {},
   "outputs": [
    {
     "name": "stdout",
     "output_type": "stream",
     "text": [
      "3\n",
      "12\n"
     ]
    }
   ],
   "source": [
    "# 모듈 import\n",
    "import gcdlcm\n",
    "\n",
    "a = gcdlcm.GcdLcm(12,6)\n",
    "print(a.gcd())\n",
    "print(a.lcm())"
   ]
  },
  {
   "cell_type": "code",
   "execution_count": 2,
   "id": "8d9b6e3a",
   "metadata": {
    "scrolled": true
   },
   "outputs": [
    {
     "name": "stdout",
     "output_type": "stream",
     "text": [
      "3\n",
      "12\n"
     ]
    }
   ],
   "source": [
    "# alias 를 활용한 import\n",
    "import gcdlcm as gl\n",
    "a = gl.GcdLcm(12,6)\n",
    "print(a.gcd())\n",
    "print(a.lcm())"
   ]
  },
  {
   "cell_type": "code",
   "execution_count": 5,
   "id": "7b17fb64",
   "metadata": {},
   "outputs": [
    {
     "name": "stdout",
     "output_type": "stream",
     "text": [
      "3\n",
      "12\n"
     ]
    }
   ],
   "source": [
    "# from, import 활용 import\n",
    "from gcdlcm import GcdLcm\n",
    "a = gl.GcdLcm(12,6)\n",
    "print(a.gcd())\n",
    "print(a.lcm())"
   ]
  }
 ],
 "metadata": {
  "kernelspec": {
   "display_name": "Python 3",
   "language": "python",
   "name": "python3"
  },
  "language_info": {
   "codemirror_mode": {
    "name": "ipython",
    "version": 3
   },
   "file_extension": ".py",
   "mimetype": "text/x-python",
   "name": "python",
   "nbconvert_exporter": "python",
   "pygments_lexer": "ipython3",
   "version": "3.8.8"
  }
 },
 "nbformat": 4,
 "nbformat_minor": 5
}
