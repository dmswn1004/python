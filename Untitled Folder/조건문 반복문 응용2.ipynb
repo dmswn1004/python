{
 "cells": [
  {
   "cell_type": "code",
   "execution_count": 4,
   "id": "9c1bcb44",
   "metadata": {},
   "outputs": [
    {
     "name": "stdout",
     "output_type": "stream",
     "text": [
      "1\n",
      "2\n",
      "3\n",
      "6\n"
     ]
    }
   ],
   "source": [
    "# 기본 7\n",
    "a = 12\n",
    "b =6\n",
    "# a+1 & b+1 모두 가능\n",
    "for i in range(1,b+1):\n",
    "    if (a%i==0) and (b%i==0):\n",
    "        print(i)"
   ]
  },
  {
   "cell_type": "code",
   "execution_count": 5,
   "id": "e571ef6c",
   "metadata": {},
   "outputs": [
    {
     "name": "stdout",
     "output_type": "stream",
     "text": [
      "[1, 2, 3, 6]\n"
     ]
    }
   ],
   "source": [
    "a = 12\n",
    "b = 6\n",
    "result = []\n",
    "for i in range(1,b+1):\n",
    "    if (a%i==0) and (b%i==0):\n",
    "        result.append(i)\n",
    "print(result)"
   ]
  },
  {
   "cell_type": "code",
   "execution_count": 6,
   "id": "94378304",
   "metadata": {},
   "outputs": [
    {
     "name": "stdout",
     "output_type": "stream",
     "text": [
      "6\n"
     ]
    }
   ],
   "source": [
    "# 기본 8\n",
    "# 방법 1\n",
    "result = []\n",
    "for i in range(1,b+1):\n",
    "    if (a%i==0) and (b%i==0):\n",
    "        result.append(i)\n",
    "        \n",
    "print(result[-1])"
   ]
  },
  {
   "cell_type": "code",
   "execution_count": 8,
   "id": "5c438845",
   "metadata": {},
   "outputs": [
    {
     "name": "stdout",
     "output_type": "stream",
     "text": [
      "6\n"
     ]
    }
   ],
   "source": [
    "# 방법 2\n",
    "for i in range(b,0,-1):\n",
    "    if (a%i==0) and (b%i==0):\n",
    "        print(i)\n",
    "        break"
   ]
  },
  {
   "cell_type": "code",
   "execution_count": 9,
   "id": "f7b69e57",
   "metadata": {},
   "outputs": [
    {
     "name": "stdout",
     "output_type": "stream",
     "text": [
      "6\n"
     ]
    }
   ],
   "source": [
    "# 방법 3\n",
    "gcd = 0\n",
    "for i in range(1,a+1):\n",
    "    if (a%i==0) and (b%i==0):\n",
    "        gcd = i\n",
    "print(gcd)"
   ]
  },
  {
   "cell_type": "code",
   "execution_count": 11,
   "id": "87b08470",
   "metadata": {},
   "outputs": [
    {
     "name": "stdout",
     "output_type": "stream",
     "text": [
      "12\n"
     ]
    }
   ],
   "source": [
    "# 기본 9\n",
    "a = 12\n",
    "b = 6\n",
    "for i in range(a,a*b+1):\n",
    "    if (i%a==0) and (i%b==0):\n",
    "        print(i)\n",
    "        break"
   ]
  },
  {
   "cell_type": "code",
   "execution_count": 1,
   "id": "95f6d081",
   "metadata": {
    "collapsed": true
   },
   "outputs": [
    {
     "name": "stdout",
     "output_type": "stream",
     "text": [
      "2\n",
      "3\n",
      "5\n",
      "7\n",
      "11\n",
      "13\n",
      "17\n",
      "19\n",
      "23\n",
      "29\n",
      "31\n",
      "37\n",
      "41\n",
      "43\n",
      "47\n",
      "53\n",
      "59\n",
      "61\n",
      "67\n",
      "71\n",
      "73\n",
      "79\n",
      "83\n",
      "89\n",
      "97\n"
     ]
    }
   ],
   "source": [
    "# 기본 10\n",
    "# 방법 1\n",
    "for i in range(2,101):\n",
    "    count = 0\n",
    "    for j in range(1,i+1):\n",
    "        if i%j==0:\n",
    "            count += 1\n",
    "    if count == 2:\n",
    "        print(i)"
   ]
  },
  {
   "cell_type": "code",
   "execution_count": 8,
   "id": "52d10d50",
   "metadata": {},
   "outputs": [
    {
     "name": "stdout",
     "output_type": "stream",
     "text": [
      "[2, 3, 5, 7, 11, 13, 17, 19, 23, 29, 31, 37, 41, 43, 47, 53, 59, 61, 67, 71, 73, 79, 83, 89, 97]\n"
     ]
    }
   ],
   "source": [
    "# 방법 2\n",
    "prime_num = []\n",
    "for i in range(2,101):\n",
    "    count = 0\n",
    "    for j in range(1,i+1):\n",
    "        if i%j==0:\n",
    "            count += 1\n",
    "    if count == 2:\n",
    "        prime_num.append(i)\n",
    "print(prime_num)"
   ]
  },
  {
   "cell_type": "code",
   "execution_count": 28,
   "id": "33cd8c82",
   "metadata": {
    "collapsed": true
   },
   "outputs": [
    {
     "name": "stdout",
     "output_type": "stream",
     "text": [
      "2\n",
      "3\n",
      "5\n",
      "7\n",
      "11\n",
      "13\n",
      "17\n",
      "19\n",
      "23\n",
      "29\n",
      "31\n",
      "37\n",
      "41\n",
      "43\n",
      "47\n",
      "53\n",
      "59\n",
      "61\n",
      "67\n",
      "71\n",
      "73\n",
      "79\n",
      "83\n",
      "89\n",
      "97\n"
     ]
    }
   ],
   "source": [
    "# 방법 3\n",
    "for i in range(2,101):\n",
    "    for j in range(2,i+1):\n",
    "        if i==j:\n",
    "            print(i)\n",
    "        if i%j==0:\n",
    "            break"
   ]
  },
  {
   "cell_type": "code",
   "execution_count": 29,
   "id": "7a26527a",
   "metadata": {},
   "outputs": [
    {
     "name": "stdout",
     "output_type": "stream",
     "text": [
      "[2, 3, 5, 7, 11, 13, 17, 19, 23, 29, 31, 37, 41, 43, 47, 53, 59, 61, 67, 71, 73, 79, 83, 89, 97]\n"
     ]
    }
   ],
   "source": [
    "# 방법 4\n",
    "prime_num = []\n",
    "for i in range(2,101):\n",
    "    for j in range(2,i+1):\n",
    "        if i==j:\n",
    "             prime_num.append(i)\n",
    "        if i%j==0:\n",
    "            break\n",
    "            \n",
    "print(prime_num)"
   ]
  }
 ],
 "metadata": {
  "kernelspec": {
   "display_name": "Python 3",
   "language": "python",
   "name": "python3"
  },
  "language_info": {
   "codemirror_mode": {
    "name": "ipython",
    "version": 3
   },
   "file_extension": ".py",
   "mimetype": "text/x-python",
   "name": "python",
   "nbconvert_exporter": "python",
   "pygments_lexer": "ipython3",
   "version": "3.8.8"
  }
 },
 "nbformat": 4,
 "nbformat_minor": 5
}
