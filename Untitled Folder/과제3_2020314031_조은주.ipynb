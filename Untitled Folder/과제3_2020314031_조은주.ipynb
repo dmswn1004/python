{
 "cells": [
  {
   "cell_type": "code",
   "execution_count": 21,
   "id": "dd17e62d",
   "metadata": {},
   "outputs": [],
   "source": [
    "# 과제 3-1\n",
    "def gcd(a,b):\n",
    "    for i in range(b,0,-1):\n",
    "        if (a%i==0) and (b%i==0):\n",
    "            return(i)     "
   ]
  },
  {
   "cell_type": "code",
   "execution_count": 22,
   "id": "11b672cd",
   "metadata": {},
   "outputs": [
    {
     "data": {
      "text/plain": [
       "6"
      ]
     },
     "execution_count": 22,
     "metadata": {},
     "output_type": "execute_result"
    }
   ],
   "source": [
    "gcd(12,6)"
   ]
  },
  {
   "cell_type": "code",
   "execution_count": 23,
   "id": "50c77579",
   "metadata": {},
   "outputs": [],
   "source": [
    "# 과제 3-2\n",
    "def gcd(a,b):\n",
    "    for i in range(b,0,-1):\n",
    "        if (a%i==0) and (b%i==0):\n",
    "            print(i)\n",
    "            break"
   ]
  },
  {
   "cell_type": "code",
   "execution_count": 24,
   "id": "70e9747f",
   "metadata": {},
   "outputs": [
    {
     "name": "stdout",
     "output_type": "stream",
     "text": [
      "6\n"
     ]
    }
   ],
   "source": [
    "gcd(12,6)"
   ]
  },
  {
   "cell_type": "code",
   "execution_count": 25,
   "id": "f888d77f",
   "metadata": {},
   "outputs": [],
   "source": [
    "# 과제 3-3\n",
    "def lcm(a,b):\n",
    "    for i in range(a,a*b+1):\n",
    "        if (i%a==0) and (i%b==0):\n",
    "            return(i)"
   ]
  },
  {
   "cell_type": "code",
   "execution_count": 27,
   "id": "ff8aeb68",
   "metadata": {},
   "outputs": [
    {
     "data": {
      "text/plain": [
       "12"
      ]
     },
     "execution_count": 27,
     "metadata": {},
     "output_type": "execute_result"
    }
   ],
   "source": [
    "lcm(12,6)"
   ]
  },
  {
   "cell_type": "code",
   "execution_count": 28,
   "id": "cdf48bb4",
   "metadata": {},
   "outputs": [],
   "source": [
    "# 과제 3-4\n",
    "def lcm(a,b):\n",
    "    for i in range(a,a*b+1):\n",
    "        if (i%a==0) and (i%b==0):\n",
    "            print(i)\n",
    "            break"
   ]
  },
  {
   "cell_type": "code",
   "execution_count": 29,
   "id": "dcbf62a6",
   "metadata": {
    "scrolled": true
   },
   "outputs": [
    {
     "name": "stdout",
     "output_type": "stream",
     "text": [
      "12\n"
     ]
    }
   ],
   "source": [
    "lcm(12,6)"
   ]
  },
  {
   "cell_type": "code",
   "execution_count": 11,
   "id": "fa229bce",
   "metadata": {},
   "outputs": [],
   "source": [
    "# 과제 3-5\n",
    "# 방법 1\n",
    "def prime():\n",
    "    n = int(input('정수 입력 : '))\n",
    "    prime_num = []\n",
    "    \n",
    "    for i in range(2,n+1):\n",
    "        count = 0\n",
    "        for j in range(1,i+1):\n",
    "            if i%j==0:\n",
    "                count+= 1\n",
    "        if count==2:\n",
    "            prime_num.append(i)\n",
    "        \n",
    "    return prime_num"
   ]
  },
  {
   "cell_type": "code",
   "execution_count": 12,
   "id": "a0c560f0",
   "metadata": {},
   "outputs": [
    {
     "name": "stdout",
     "output_type": "stream",
     "text": [
      "정수 입력 : 50\n"
     ]
    },
    {
     "data": {
      "text/plain": [
       "[2, 3, 5, 7, 11, 13, 17, 19, 23, 29, 31, 37, 41, 43, 47]"
      ]
     },
     "execution_count": 12,
     "metadata": {},
     "output_type": "execute_result"
    }
   ],
   "source": [
    "prime()"
   ]
  },
  {
   "cell_type": "code",
   "execution_count": 43,
   "id": "f078759f",
   "metadata": {},
   "outputs": [],
   "source": [
    "# 방법 2\n",
    "def prime():\n",
    "    n = int(input('정수 입력 : '))\n",
    "    prime_num = []  \n",
    "    for i in range(2,n+1):\n",
    "        for j in range(2,i+1):\n",
    "            if i==j:\n",
    "                prime_num.append(i)\n",
    "            if i%j==0:\n",
    "                break\n",
    "                \n",
    "    return prime_num"
   ]
  },
  {
   "cell_type": "code",
   "execution_count": 44,
   "id": "eb2794ec",
   "metadata": {},
   "outputs": [
    {
     "name": "stdout",
     "output_type": "stream",
     "text": [
      "정수 입력 : 50\n"
     ]
    },
    {
     "data": {
      "text/plain": [
       "[2, 3, 5, 7, 11, 13, 17, 19, 23, 29, 31, 37, 41, 43, 47]"
      ]
     },
     "execution_count": 44,
     "metadata": {},
     "output_type": "execute_result"
    }
   ],
   "source": [
    "prime()"
   ]
  },
  {
   "cell_type": "code",
   "execution_count": 34,
   "id": "6674eefa",
   "metadata": {},
   "outputs": [],
   "source": [
    "# 과제 3-6\n",
    "def prime_tester():\n",
    "    n = int(input('정수 입력 : '))\n",
    "    for i in range(2,n+1):\n",
    "        if n==i:\n",
    "            print('%d는 소수'%n)\n",
    "        elif n%i==0:\n",
    "            print('%d는 소수가 아님'%n)\n",
    "            break"
   ]
  },
  {
   "cell_type": "code",
   "execution_count": 35,
   "id": "7a3a986a",
   "metadata": {
    "scrolled": true
   },
   "outputs": [
    {
     "name": "stdout",
     "output_type": "stream",
     "text": [
      "정수 입력 : 59\n",
      "59는 소수\n"
     ]
    }
   ],
   "source": [
    "prime_tester()"
   ]
  },
  {
   "cell_type": "code",
   "execution_count": 8,
   "id": "3783104d",
   "metadata": {},
   "outputs": [
    {
     "name": "stdout",
     "output_type": "stream",
     "text": [
      "*oooo\n",
      "**ooo\n",
      "***oo\n",
      "****o\n",
      "*****\n",
      "****o\n",
      "***oo\n",
      "**ooo\n",
      "*oooo\n"
     ]
    }
   ],
   "source": [
    "# 과제 3-7\n",
    "# 방법 1\n",
    "for i in range(1,6):\n",
    "    print('*'*i+'o'*(5-i))\n",
    "for i in range(4,0,-1): \n",
    "    print('*'*i+'o'*(5-i))"
   ]
  },
  {
   "cell_type": "code",
   "execution_count": 13,
   "id": "f392109a",
   "metadata": {
    "collapsed": true
   },
   "outputs": [
    {
     "name": "stdout",
     "output_type": "stream",
     "text": [
      "*oooo\n",
      "**ooo\n",
      "***oo\n",
      "****o\n",
      "*****\n",
      "****o\n",
      "***oo\n",
      "**ooo\n",
      "*oooo\n"
     ]
    }
   ],
   "source": [
    "# 방법 2 (강의풀이)\n",
    "for i in range(1,6):\n",
    "    for j in range(1,i+1):\n",
    "        print('*',end='')\n",
    "    for k in range(5-i,0,-1):\n",
    "        print('o',end='')      \n",
    "    print('')\n",
    "    \n",
    "for i in range(4,0,-1):\n",
    "    for j in range(1,i+1):\n",
    "        print('*',end='')\n",
    "    for k in range(5-i,0,-1):\n",
    "        print('o',end='')      \n",
    "    print('')"
   ]
  },
  {
   "cell_type": "code",
   "execution_count": 2,
   "id": "e58ed2f5",
   "metadata": {},
   "outputs": [
    {
     "name": "stdout",
     "output_type": "stream",
     "text": [
      "oooo**oooo\n",
      "ooo****ooo\n",
      "oo******oo\n",
      "o********o\n",
      "**********\n",
      "o********o\n",
      "oo******oo\n",
      "ooo****ooo\n",
      "oooo**oooo\n"
     ]
    }
   ],
   "source": [
    "# 응용문제\n",
    "for i in range(1,6):\n",
    "    print('o'*(5-i)+'*'*i+'*'*i+'o'*(5-i))\n",
    "for i in range(4,0,-1):\n",
    "    print('o'*(5-i)+'*'*i+'*'*i+'o'*(5-i))"
   ]
  },
  {
   "cell_type": "code",
   "execution_count": 13,
   "id": "be703954",
   "metadata": {},
   "outputs": [],
   "source": [
    "# 과제 3-8\n",
    "def a(n):\n",
    "    num = []\n",
    "    avg = 0\n",
    "    sum = 0\n",
    "    sd = 0\n",
    "    \n",
    "    for i in range(n):\n",
    "        i = int(input('정수 입력 : '))\n",
    "        num.append(i)\n",
    "    for i in range(len(num)):\n",
    "        sum += num[i]\n",
    "        sd = (num[i] - sum)**2\n",
    "    avg = float(sum)/len(num)\n",
    "    sd = float((sd)**(1/2))\n",
    "   \n",
    "    return avg, sd, max(num), min(num), len(num)"
   ]
  },
  {
   "cell_type": "code",
   "execution_count": 14,
   "id": "287ebaff",
   "metadata": {
    "scrolled": true
   },
   "outputs": [
    {
     "name": "stdout",
     "output_type": "stream",
     "text": [
      "정수 입력 : 4\n",
      "정수 입력 : 6\n",
      "정수 입력 : 7\n",
      "정수 입력 : 8\n"
     ]
    },
    {
     "data": {
      "text/plain": [
       "(6.25, 17.0, 8, 4, 4)"
      ]
     },
     "execution_count": 14,
     "metadata": {},
     "output_type": "execute_result"
    }
   ],
   "source": [
    "a(4)"
   ]
  },
  {
   "cell_type": "code",
   "execution_count": 7,
   "id": "c5ab280b",
   "metadata": {},
   "outputs": [],
   "source": [
    "# 강의풀이\n",
    "def analysis(*args):\n",
    "    data = args\n",
    "    n = len(data)\n",
    "    s = 0\n",
    "    max_value = data[0]\n",
    "    min_value = data[0]\n",
    "    for i in range(len(data)):\n",
    "        s = s +data[i]\n",
    "        if max_value < data[i]:\n",
    "            max_value = data[i]\n",
    "        if min_value > data[i]:\n",
    "            min_value = data[i]  \n",
    "    mean = s / n\n",
    "    \n",
    "    dev_num = 0\n",
    "    for i in range(len(data)):\n",
    "        dev_num = dev_num + ((data[i] - mean) ** 2)    \n",
    "    sd = (dev_num / (n-1))**(1/2)\n",
    "    \n",
    "    return mean,sd,max_value,min_value,n"
   ]
  },
  {
   "cell_type": "code",
   "execution_count": 8,
   "id": "cc012155",
   "metadata": {
    "scrolled": true
   },
   "outputs": [
    {
     "data": {
      "text/plain": [
       "(8.6, 13.164345787011218, 32, 1, 5)"
      ]
     },
     "execution_count": 8,
     "metadata": {},
     "output_type": "execute_result"
    }
   ],
   "source": [
    "analysis(3,5,2,1,32)"
   ]
  },
  {
   "cell_type": "code",
   "execution_count": 9,
   "id": "2d408985",
   "metadata": {},
   "outputs": [],
   "source": [
    "mean,sd,max_value,min_value,n = analysis(3,5,2,1,32)"
   ]
  },
  {
   "cell_type": "code",
   "execution_count": 10,
   "id": "7be6adca",
   "metadata": {},
   "outputs": [
    {
     "name": "stdout",
     "output_type": "stream",
     "text": [
      "8.6\n"
     ]
    }
   ],
   "source": [
    "print(mean)"
   ]
  }
 ],
 "metadata": {
  "kernelspec": {
   "display_name": "Python 3",
   "language": "python",
   "name": "python3"
  },
  "language_info": {
   "codemirror_mode": {
    "name": "ipython",
    "version": 3
   },
   "file_extension": ".py",
   "mimetype": "text/x-python",
   "name": "python",
   "nbconvert_exporter": "python",
   "pygments_lexer": "ipython3",
   "version": "3.8.8"
  }
 },
 "nbformat": 4,
 "nbformat_minor": 5
}
