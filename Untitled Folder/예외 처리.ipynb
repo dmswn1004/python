{
 "cells": [
  {
   "cell_type": "code",
   "execution_count": 1,
   "id": "f7fb3d25",
   "metadata": {
    "scrolled": true
   },
   "outputs": [
    {
     "ename": "ZeroDivisionError",
     "evalue": "division by zero",
     "output_type": "error",
     "traceback": [
      "\u001b[1;31m---------------------------------------------------------------------------\u001b[0m",
      "\u001b[1;31mZeroDivisionError\u001b[0m                         Traceback (most recent call last)",
      "\u001b[1;32m<ipython-input-1-e574edb36883>\u001b[0m in \u001b[0;36m<module>\u001b[1;34m\u001b[0m\n\u001b[1;32m----> 1\u001b[1;33m \u001b[1;36m10\u001b[0m\u001b[1;33m/\u001b[0m\u001b[1;36m0\u001b[0m\u001b[1;33m\u001b[0m\u001b[1;33m\u001b[0m\u001b[0m\n\u001b[0m",
      "\u001b[1;31mZeroDivisionError\u001b[0m: division by zero"
     ]
    }
   ],
   "source": [
    "# 예외 처리\n",
    "# 10을 0으로 나누는 경우\n",
    "10/0"
   ]
  },
  {
   "cell_type": "code",
   "execution_count": 3,
   "id": "88bb979d",
   "metadata": {},
   "outputs": [
    {
     "name": "stdout",
     "output_type": "stream",
     "text": [
      "10을 0으로 나눌 수 없습니다.\n"
     ]
    }
   ],
   "source": [
    "# try,except\n",
    "try:\n",
    "    10/0\n",
    "except:\n",
    "    print('10을 0으로 나눌 수 없습니다.')"
   ]
  },
  {
   "cell_type": "code",
   "execution_count": 4,
   "id": "61ec250f",
   "metadata": {},
   "outputs": [
    {
     "name": "stdout",
     "output_type": "stream",
     "text": [
      "10을 0으로 나눌 수 없습니다.\n"
     ]
    }
   ],
   "source": [
    "# try,except, 오류타입\n",
    "try:\n",
    "    10/0\n",
    "except ZeroDivisionError:\n",
    "    print('10을 0으로 나눌 수 없습니다.')"
   ]
  },
  {
   "cell_type": "code",
   "execution_count": 6,
   "id": "49cc2f64",
   "metadata": {},
   "outputs": [
    {
     "ename": "ZeroDivisionError",
     "evalue": "division by zero",
     "output_type": "error",
     "traceback": [
      "\u001b[1;31m---------------------------------------------------------------------------\u001b[0m",
      "\u001b[1;31mZeroDivisionError\u001b[0m                         Traceback (most recent call last)",
      "\u001b[1;32m<ipython-input-6-db74a608eddd>\u001b[0m in \u001b[0;36m<module>\u001b[1;34m\u001b[0m\n\u001b[0;32m      1\u001b[0m \u001b[1;31m# try,except, 오류타입\u001b[0m\u001b[1;33m\u001b[0m\u001b[1;33m\u001b[0m\u001b[1;33m\u001b[0m\u001b[0m\n\u001b[0;32m      2\u001b[0m \u001b[1;32mtry\u001b[0m\u001b[1;33m:\u001b[0m\u001b[1;33m\u001b[0m\u001b[1;33m\u001b[0m\u001b[0m\n\u001b[1;32m----> 3\u001b[1;33m     \u001b[1;36m10\u001b[0m\u001b[1;33m/\u001b[0m\u001b[1;36m0\u001b[0m\u001b[1;33m\u001b[0m\u001b[1;33m\u001b[0m\u001b[0m\n\u001b[0m\u001b[0;32m      4\u001b[0m \u001b[1;32mexcept\u001b[0m \u001b[0mEOFError\u001b[0m\u001b[1;33m:\u001b[0m\u001b[1;33m\u001b[0m\u001b[1;33m\u001b[0m\u001b[0m\n\u001b[0;32m      5\u001b[0m     \u001b[0mprint\u001b[0m\u001b[1;33m(\u001b[0m\u001b[1;34m'EOFError 발생'\u001b[0m\u001b[1;33m)\u001b[0m\u001b[1;33m\u001b[0m\u001b[1;33m\u001b[0m\u001b[0m\n",
      "\u001b[1;31mZeroDivisionError\u001b[0m: division by zero"
     ]
    }
   ],
   "source": [
    "# try,except, 오류타입\n",
    "try:\n",
    "    10/0\n",
    "except EOFError:\n",
    "    print('EOFError 발생')"
   ]
  },
  {
   "cell_type": "code",
   "execution_count": 9,
   "id": "2adf6983",
   "metadata": {},
   "outputs": [
    {
     "name": "stdout",
     "output_type": "stream",
     "text": [
      "10을 0으로 나눌 수 없습니다.\n",
      "오류 메세지: division by zero\n"
     ]
    }
   ],
   "source": [
    "# try,except, 오류타입\n",
    "try:\n",
    "    10/0\n",
    "except ZeroDivisionError as e:\n",
    "    print('10을 0으로 나눌 수 없습니다.')\n",
    "    print('오류 메세지: %s'%e)"
   ]
  },
  {
   "cell_type": "code",
   "execution_count": 13,
   "id": "a012b7b3",
   "metadata": {
    "collapsed": true
   },
   "outputs": [
    {
     "name": "stdout",
     "output_type": "stream",
     "text": [
      "10: 오류 없음\n",
      "9: 오류 없음\n",
      "8: 오류 없음\n",
      "7: 오류 없음\n",
      "6: 오류 없음\n",
      "5: 오류 없음\n",
      "4: 오류 없음\n",
      "3: 오류 없음\n",
      "2: 오류 없음\n",
      "1: 오류 없음\n",
      "--- %d: 오류 ---\n",
      "-1: 오류 없음\n",
      "-2: 오류 없음\n",
      "-3: 오류 없음\n",
      "-4: 오류 없음\n",
      "-5: 오류 없음\n",
      "-6: 오류 없음\n",
      "-7: 오류 없음\n",
      "-8: 오류 없음\n",
      "-9: 오류 없음\n"
     ]
    }
   ],
   "source": [
    "# try,except else\n",
    "for i in range(10,-10,-1):\n",
    "    try:\n",
    "        10/i\n",
    "#         print('10/%d = %d'%(i,10/i))\n",
    "    except:\n",
    "        print('--- %d: 오류 ---')\n",
    "    else:\n",
    "        print('%d: 오류 없음'%i)"
   ]
  },
  {
   "cell_type": "code",
   "execution_count": 1,
   "id": "c33cb9a6",
   "metadata": {
    "collapsed": true
   },
   "outputs": [
    {
     "name": "stdout",
     "output_type": "stream",
     "text": [
      "10 실행함\n",
      "9 실행함\n",
      "8 실행함\n",
      "7 실행함\n",
      "6 실행함\n",
      "5 실행함\n",
      "4 실행함\n",
      "3 실행함\n",
      "2 실행함\n",
      "1 실행함\n",
      "--- %d: 오류 ---\n",
      "0 실행함\n",
      "-1 실행함\n",
      "-2 실행함\n",
      "-3 실행함\n",
      "-4 실행함\n",
      "-5 실행함\n",
      "-6 실행함\n",
      "-7 실행함\n",
      "-8 실행함\n",
      "-9 실행함\n"
     ]
    }
   ],
   "source": [
    "# try, except, finally\n",
    "for i in range(10,-10,-1):\n",
    "    try:\n",
    "        10/i\n",
    "#         print('10/%d = %d'%(i,10/i))\n",
    "    except:\n",
    "        print('--- %d: 오류 ---')\n",
    "    finally:\n",
    "        print('%d 실행함'%i)"
   ]
  }
 ],
 "metadata": {
  "kernelspec": {
   "display_name": "Python 3",
   "language": "python",
   "name": "python3"
  },
  "language_info": {
   "codemirror_mode": {
    "name": "ipython",
    "version": 3
   },
   "file_extension": ".py",
   "mimetype": "text/x-python",
   "name": "python",
   "nbconvert_exporter": "python",
   "pygments_lexer": "ipython3",
   "version": "3.8.8"
  }
 },
 "nbformat": 4,
 "nbformat_minor": 5
}
