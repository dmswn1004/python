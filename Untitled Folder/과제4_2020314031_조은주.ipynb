{
 "cells": [
  {
   "cell_type": "code",
   "execution_count": 35,
   "id": "a45f3775",
   "metadata": {},
   "outputs": [],
   "source": [
    "# 과제 4-1\n",
    "def sort(*args):\n",
    "    num = list(args)\n",
    "    tmp = 0\n",
    "    for i in range(len(num)):\n",
    "        for j in range(i+1,len(num)):\n",
    "            if(num[i] > num[j]):\n",
    "                tmp = num[i]\n",
    "                num[i] = num[j]\n",
    "                num[j] = tmp\n",
    "    return num"
   ]
  },
  {
   "cell_type": "code",
   "execution_count": 36,
   "id": "c2f1e7d3",
   "metadata": {
    "scrolled": false
   },
   "outputs": [
    {
     "name": "stdout",
     "output_type": "stream",
     "text": [
      "[1, 2, 2, 3, 5, 6]\n"
     ]
    }
   ],
   "source": [
    "print(sort(1,5,3,6,2,2))"
   ]
  },
  {
   "cell_type": "code",
   "execution_count": 27,
   "id": "437c54be",
   "metadata": {},
   "outputs": [],
   "source": [
    "# 강의\n",
    "def ascending(*args):\n",
    "    data = list(args)\n",
    "    for i in range(len(data)-1):\n",
    "        for j in range(len(data)-1-i):\n",
    "            if (data[j]>data[j+1]):\n",
    "                temp = data[j]\n",
    "                data[j] = data[j+1]\n",
    "                data[j+1] = temp\n",
    "            print('i: %d, j: %d 정렬: %s'%(i,j,data))\n",
    "#         print('%d회 정렬 : %s'%(i+1,data))\n",
    "    return data"
   ]
  },
  {
   "cell_type": "code",
   "execution_count": 28,
   "id": "7956575c",
   "metadata": {
    "collapsed": true
   },
   "outputs": [
    {
     "name": "stdout",
     "output_type": "stream",
     "text": [
      "i: 0, j: 0 정렬: [5, 100, 100, 7, -25]\n",
      "i: 0, j: 1 정렬: [5, 100, 100, 7, -25]\n",
      "i: 0, j: 2 정렬: [5, 100, 7, 100, -25]\n",
      "i: 0, j: 3 정렬: [5, 100, 7, -25, 100]\n",
      "i: 1, j: 0 정렬: [5, 100, 7, -25, 100]\n",
      "i: 1, j: 1 정렬: [5, 7, 100, -25, 100]\n",
      "i: 1, j: 2 정렬: [5, 7, -25, 100, 100]\n",
      "i: 2, j: 0 정렬: [5, 7, -25, 100, 100]\n",
      "i: 2, j: 1 정렬: [5, -25, 7, 100, 100]\n",
      "i: 3, j: 0 정렬: [-25, 5, 7, 100, 100]\n"
     ]
    },
    {
     "data": {
      "text/plain": [
       "[-25, 5, 7, 100, 100]"
      ]
     },
     "execution_count": 28,
     "metadata": {},
     "output_type": "execute_result"
    }
   ],
   "source": [
    "ascending(100,5,100,7,-25)"
   ]
  },
  {
   "cell_type": "code",
   "execution_count": null,
   "id": "7cfef879",
   "metadata": {},
   "outputs": [],
   "source": [
    "def ascending(*args):\n",
    "    data=list(args)\n",
    "    for i in range(len(data)-1):\n",
    "        for j in range(len(data)-1-i):\n",
    "            if(data[j]>data[j+1]):\n",
    "                temp=data[j]\n",
    "                data[j]=data[j+1]\n",
    "                data[j+1] = temp\n",
    "            print('i: %d, j: %d 정렬: %s' %(i,j,data))\n",
    "    return data"
   ]
  },
  {
   "cell_type": "code",
   "execution_count": 23,
   "id": "8ecd8d9d",
   "metadata": {},
   "outputs": [],
   "source": [
    "# 과제 4-2\n",
    "def sort2(*args):\n",
    "    num = list(args)\n",
    "    tmp = 0\n",
    "    for i in range(len(num)):\n",
    "        for j in range(i+1,len(num)):\n",
    "            if num[i]<num[j]:\n",
    "                tmp = num[i]\n",
    "                num[i] = num[j]\n",
    "                num[j] = tmp\n",
    "    return num"
   ]
  },
  {
   "cell_type": "code",
   "execution_count": 24,
   "id": "936cfcc1",
   "metadata": {},
   "outputs": [
    {
     "data": {
      "text/plain": [
       "[10000, 10, 9, 7, 7, 1]"
      ]
     },
     "execution_count": 24,
     "metadata": {},
     "output_type": "execute_result"
    }
   ],
   "source": [
    "sort2(10000,7,9,1,7,10)"
   ]
  },
  {
   "cell_type": "code",
   "execution_count": 37,
   "id": "77ccf028",
   "metadata": {},
   "outputs": [],
   "source": [
    "# 강의\n",
    "def descending(*args):\n",
    "    data = list(args)\n",
    "    for i in range(len(data)-1):\n",
    "        for j in range(len(data)-1-i):\n",
    "            if (data[j] < data[j+1]):\n",
    "                temp = data[j]\n",
    "                data[j] = data[j+1]\n",
    "                data[j+1] = temp\n",
    "            print('i: %d, j: %d 정렬: %s'%(i,j,data))\n",
    "#         print('%d회 정렬 : %s'%(i+1,data))\n",
    "    return data"
   ]
  },
  {
   "cell_type": "code",
   "execution_count": 38,
   "id": "7f176825",
   "metadata": {},
   "outputs": [
    {
     "name": "stdout",
     "output_type": "stream",
     "text": [
      "i: 0, j: 0 정렬: [100, 5, 100, 7, -25]\n",
      "i: 0, j: 1 정렬: [100, 100, 5, 7, -25]\n",
      "i: 0, j: 2 정렬: [100, 100, 7, 5, -25]\n",
      "i: 0, j: 3 정렬: [100, 100, 7, 5, -25]\n",
      "i: 1, j: 0 정렬: [100, 100, 7, 5, -25]\n",
      "i: 1, j: 1 정렬: [100, 100, 7, 5, -25]\n",
      "i: 1, j: 2 정렬: [100, 100, 7, 5, -25]\n",
      "i: 2, j: 0 정렬: [100, 100, 7, 5, -25]\n",
      "i: 2, j: 1 정렬: [100, 100, 7, 5, -25]\n",
      "i: 3, j: 0 정렬: [100, 100, 7, 5, -25]\n"
     ]
    },
    {
     "data": {
      "text/plain": [
       "[100, 100, 7, 5, -25]"
      ]
     },
     "execution_count": 38,
     "metadata": {},
     "output_type": "execute_result"
    }
   ],
   "source": [
    "descending(100,5,100,7,-25)"
   ]
  }
 ],
 "metadata": {
  "kernelspec": {
   "display_name": "Python 3",
   "language": "python",
   "name": "python3"
  },
  "language_info": {
   "codemirror_mode": {
    "name": "ipython",
    "version": 3
   },
   "file_extension": ".py",
   "mimetype": "text/x-python",
   "name": "python",
   "nbconvert_exporter": "python",
   "pygments_lexer": "ipython3",
   "version": "3.8.8"
  }
 },
 "nbformat": 4,
 "nbformat_minor": 5
}
