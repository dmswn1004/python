{
 "cells": [
  {
   "cell_type": "code",
   "execution_count": 8,
   "id": "65a2b792",
   "metadata": {},
   "outputs": [],
   "source": [
    "# prime.py\n",
    "def prime_print(a):\n",
    "    for i in range(2,a+1):\n",
    "        count = 0\n",
    "        for j in range(1,i+1):\n",
    "            if i%j==0:\n",
    "                count += 1\n",
    "        if count==2:\n",
    "            print(i)"
   ]
  }
 ],
 "metadata": {
  "kernelspec": {
   "display_name": "Python 3",
   "language": "python",
   "name": "python3"
  },
  "language_info": {
   "codemirror_mode": {
    "name": "ipython",
    "version": 3
   },
   "file_extension": ".py",
   "mimetype": "text/x-python",
   "name": "python",
   "nbconvert_exporter": "python",
   "pygments_lexer": "ipython3",
   "version": "3.8.8"
  }
 },
 "nbformat": 4,
 "nbformat_minor": 5
}
